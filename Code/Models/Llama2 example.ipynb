{
 "cells": [
  {
   "cell_type": "code",
   "execution_count": 31,
   "id": "e8829c8f",
   "metadata": {
    "cellId": "z5q5ogzywfldbc68bbx6x5",
    "execution": {
     "iopub.execute_input": "2023-11-22T05:46:02.184911929Z",
     "iopub.status.busy": "2023-11-22T05:46:03.338610Z",
     "iopub.status.idle": "2023-11-22T05:46:22.120013Z",
     "shell.execute_reply": "2023-11-22T05:46:22.118787Z",
     "shell.execute_reply.started": "2023-11-22T05:46:03.339509Z"
    }
   },
   "outputs": [
    {
     "name": "stderr",
     "output_type": "stream",
     "text": [
      "huggingface/tokenizers: The current process just got forked, after parallelism has already been used. Disabling parallelism to avoid deadlocks...\n",
      "To disable this warning, you can either:\n",
      "\t- Avoid using `tokenizers` before the fork if possible\n",
      "\t- Explicitly set the environment variable TOKENIZERS_PARALLELISM=(true | false)\n",
      "huggingface/tokenizers: The current process just got forked, after parallelism has already been used. Disabling parallelism to avoid deadlocks...\n",
      "To disable this warning, you can either:\n",
      "\t- Avoid using `tokenizers` before the fork if possible\n",
      "\t- Explicitly set the environment variable TOKENIZERS_PARALLELISM=(true | false)\n",
      "huggingface/tokenizers: The current process just got forked, after parallelism has already been used. Disabling parallelism to avoid deadlocks...\n",
      "To disable this warning, you can either:\n",
      "\t- Avoid using `tokenizers` before the fork if possible\n",
      "\t- Explicitly set the environment variable TOKENIZERS_PARALLELISM=(true | false)\n",
      "huggingface/tokenizers: The current process just got forked, after parallelism has already been used. Disabling parallelism to avoid deadlocks...\n",
      "To disable this warning, you can either:\n",
      "\t- Avoid using `tokenizers` before the fork if possible\n",
      "\t- Explicitly set the environment variable TOKENIZERS_PARALLELISM=(true | false)\n",
      "huggingface/tokenizers: The current process just got forked, after parallelism has already been used. Disabling parallelism to avoid deadlocks...\n",
      "To disable this warning, you can either:\n",
      "\t- Avoid using `tokenizers` before the fork if possible\n",
      "\t- Explicitly set the environment variable TOKENIZERS_PARALLELISM=(true | false)\n"
     ]
    },
    {
     "name": "stdout",
     "output_type": "stream",
     "text": [
      "Defaulting to user installation because normal site-packages is not writeable\n",
      "Requirement already satisfied: transformers in /home/jupyter/.local/lib/python3.9/site-packages (4.35.1)\n",
      "Requirement already satisfied: filelock in /usr/local/lib/python3.9/dist-packages (from transformers) (3.13.1)\n",
      "Requirement already satisfied: huggingface-hub<1.0,>=0.16.4 in /home/jupyter/.local/lib/python3.9/site-packages (from transformers) (0.17.3)\n",
      "Requirement already satisfied: numpy>=1.17 in /home/jupyter/.local/lib/python3.9/site-packages (from transformers) (1.26.2)\n",
      "Requirement already satisfied: packaging>=20.0 in /kernel/lib/python3.9/site-packages (from transformers) (23.2)\n",
      "Requirement already satisfied: pyyaml>=5.1 in /home/jupyter/.local/lib/python3.9/site-packages (from transformers) (6.0.1)\n",
      "Requirement already satisfied: regex!=2019.12.17 in /home/jupyter/.local/lib/python3.9/site-packages (from transformers) (2023.10.3)\n",
      "Requirement already satisfied: requests in /kernel/fallback/lib/python3.9/site-packages (from transformers) (2.31.0)\n",
      "Requirement already satisfied: tokenizers<0.15,>=0.14 in /home/jupyter/.local/lib/python3.9/site-packages (from transformers) (0.14.1)\n",
      "Requirement already satisfied: safetensors>=0.3.1 in /home/jupyter/.local/lib/python3.9/site-packages (from transformers) (0.4.0)\n",
      "Requirement already satisfied: tqdm>=4.27 in /home/jupyter/.local/lib/python3.9/site-packages (from transformers) (4.66.1)\n",
      "Requirement already satisfied: fsspec in /home/jupyter/.local/lib/python3.9/site-packages (from huggingface-hub<1.0,>=0.16.4->transformers) (2023.10.0)\n",
      "Requirement already satisfied: typing-extensions>=3.7.4.3 in /kernel/lib/python3.9/site-packages (from huggingface-hub<1.0,>=0.16.4->transformers) (4.8.0)\n",
      "Requirement already satisfied: charset-normalizer<4,>=2 in /kernel/lib/python3.9/site-packages (from requests->transformers) (3.3.2)\n",
      "Requirement already satisfied: idna<4,>=2.5 in /kernel/lib/python3.9/site-packages (from requests->transformers) (3.4)\n",
      "Requirement already satisfied: urllib3<3,>=1.21.1 in /kernel/fallback/lib/python3.9/site-packages (from requests->transformers) (1.26.18)\n",
      "Requirement already satisfied: certifi>=2017.4.17 in /kernel/lib/python3.9/site-packages (from requests->transformers) (2023.7.22)\n",
      "Defaulting to user installation because normal site-packages is not writeable\n",
      "Requirement already satisfied: auto-gptq in /home/jupyter/.local/lib/python3.9/site-packages (0.5.1)\n",
      "Requirement already satisfied: accelerate>=0.22.0 in /home/jupyter/.local/lib/python3.9/site-packages (from auto-gptq) (0.24.1)\n",
      "Requirement already satisfied: datasets in /home/jupyter/.local/lib/python3.9/site-packages (from auto-gptq) (2.14.7)\n",
      "Requirement already satisfied: sentencepiece in /home/jupyter/.local/lib/python3.9/site-packages (from auto-gptq) (0.1.99)\n",
      "Requirement already satisfied: numpy in /home/jupyter/.local/lib/python3.9/site-packages (from auto-gptq) (1.26.2)\n",
      "Requirement already satisfied: rouge in /home/jupyter/.local/lib/python3.9/site-packages (from auto-gptq) (1.0.1)\n",
      "Requirement already satisfied: gekko in /home/jupyter/.local/lib/python3.9/site-packages (from auto-gptq) (1.0.6)\n",
      "Requirement already satisfied: torch>=1.13.0 in /usr/local/lib/python3.9/dist-packages (from auto-gptq) (2.0.1)\n",
      "Requirement already satisfied: safetensors in /home/jupyter/.local/lib/python3.9/site-packages (from auto-gptq) (0.4.0)\n",
      "Requirement already satisfied: transformers>=4.31.0 in /home/jupyter/.local/lib/python3.9/site-packages (from auto-gptq) (4.35.1)\n",
      "Requirement already satisfied: peft>=0.5.0 in /home/jupyter/.local/lib/python3.9/site-packages (from auto-gptq) (0.6.2)\n",
      "Requirement already satisfied: tqdm in /home/jupyter/.local/lib/python3.9/site-packages (from auto-gptq) (4.66.1)\n",
      "Requirement already satisfied: packaging>=20.0 in /kernel/lib/python3.9/site-packages (from accelerate>=0.22.0->auto-gptq) (23.2)\n",
      "Requirement already satisfied: psutil in /kernel/lib/python3.9/site-packages (from accelerate>=0.22.0->auto-gptq) (5.7.3)\n",
      "Requirement already satisfied: pyyaml in /home/jupyter/.local/lib/python3.9/site-packages (from accelerate>=0.22.0->auto-gptq) (6.0.1)\n",
      "Requirement already satisfied: huggingface-hub in /home/jupyter/.local/lib/python3.9/site-packages (from accelerate>=0.22.0->auto-gptq) (0.17.3)\n",
      "Requirement already satisfied: filelock in /usr/local/lib/python3.9/dist-packages (from torch>=1.13.0->auto-gptq) (3.13.1)\n",
      "Requirement already satisfied: typing-extensions in /kernel/lib/python3.9/site-packages (from torch>=1.13.0->auto-gptq) (4.8.0)\n",
      "Requirement already satisfied: sympy in /usr/local/lib/python3.9/dist-packages (from torch>=1.13.0->auto-gptq) (1.12)\n",
      "Requirement already satisfied: networkx in /usr/local/lib/python3.9/dist-packages (from torch>=1.13.0->auto-gptq) (3.2.1)\n",
      "Requirement already satisfied: jinja2 in /kernel/lib/python3.9/site-packages (from torch>=1.13.0->auto-gptq) (3.1.2)\n",
      "Requirement already satisfied: nvidia-cuda-nvrtc-cu11==11.7.99 in /usr/local/lib/python3.9/dist-packages (from torch>=1.13.0->auto-gptq) (11.7.99)\n",
      "Requirement already satisfied: nvidia-cuda-runtime-cu11==11.7.99 in /usr/local/lib/python3.9/dist-packages (from torch>=1.13.0->auto-gptq) (11.7.99)\n",
      "Requirement already satisfied: nvidia-cuda-cupti-cu11==11.7.101 in /usr/local/lib/python3.9/dist-packages (from torch>=1.13.0->auto-gptq) (11.7.101)\n",
      "Requirement already satisfied: nvidia-cudnn-cu11==8.5.0.96 in /usr/local/lib/python3.9/dist-packages (from torch>=1.13.0->auto-gptq) (8.5.0.96)\n",
      "Requirement already satisfied: nvidia-cublas-cu11==11.10.3.66 in /usr/local/lib/python3.9/dist-packages (from torch>=1.13.0->auto-gptq) (11.10.3.66)\n",
      "Requirement already satisfied: nvidia-cufft-cu11==10.9.0.58 in /usr/local/lib/python3.9/dist-packages (from torch>=1.13.0->auto-gptq) (10.9.0.58)\n",
      "Requirement already satisfied: nvidia-curand-cu11==10.2.10.91 in /usr/local/lib/python3.9/dist-packages (from torch>=1.13.0->auto-gptq) (10.2.10.91)\n",
      "Requirement already satisfied: nvidia-cusolver-cu11==11.4.0.1 in /usr/local/lib/python3.9/dist-packages (from torch>=1.13.0->auto-gptq) (11.4.0.1)\n",
      "Requirement already satisfied: nvidia-cusparse-cu11==11.7.4.91 in /usr/local/lib/python3.9/dist-packages (from torch>=1.13.0->auto-gptq) (11.7.4.91)\n",
      "Requirement already satisfied: nvidia-nccl-cu11==2.14.3 in /usr/local/lib/python3.9/dist-packages (from torch>=1.13.0->auto-gptq) (2.14.3)\n",
      "Requirement already satisfied: nvidia-nvtx-cu11==11.7.91 in /usr/local/lib/python3.9/dist-packages (from torch>=1.13.0->auto-gptq) (11.7.91)\n",
      "Requirement already satisfied: triton==2.0.0 in /usr/local/lib/python3.9/dist-packages (from torch>=1.13.0->auto-gptq) (2.0.0)\n",
      "Requirement already satisfied: setuptools in /kernel/lib/python3.9/site-packages (from nvidia-cublas-cu11==11.10.3.66->torch>=1.13.0->auto-gptq) (51.0.0)\n",
      "Requirement already satisfied: wheel in /usr/local/lib/python3.9/dist-packages (from nvidia-cublas-cu11==11.10.3.66->torch>=1.13.0->auto-gptq) (0.41.3)\n",
      "Requirement already satisfied: cmake in /usr/local/lib/python3.9/dist-packages (from triton==2.0.0->torch>=1.13.0->auto-gptq) (3.27.7)\n",
      "Requirement already satisfied: lit in /usr/local/lib/python3.9/dist-packages (from triton==2.0.0->torch>=1.13.0->auto-gptq) (17.0.4)\n",
      "Requirement already satisfied: regex!=2019.12.17 in /home/jupyter/.local/lib/python3.9/site-packages (from transformers>=4.31.0->auto-gptq) (2023.10.3)\n",
      "Requirement already satisfied: requests in /kernel/fallback/lib/python3.9/site-packages (from transformers>=4.31.0->auto-gptq) (2.31.0)\n",
      "Requirement already satisfied: tokenizers<0.15,>=0.14 in /home/jupyter/.local/lib/python3.9/site-packages (from transformers>=4.31.0->auto-gptq) (0.14.1)\n",
      "Requirement already satisfied: pyarrow>=8.0.0 in /home/jupyter/.local/lib/python3.9/site-packages (from datasets->auto-gptq) (14.0.1)\n",
      "Requirement already satisfied: pyarrow-hotfix in /home/jupyter/.local/lib/python3.9/site-packages (from datasets->auto-gptq) (0.5)\n",
      "Requirement already satisfied: dill<0.3.8,>=0.3.0 in /home/jupyter/.local/lib/python3.9/site-packages (from datasets->auto-gptq) (0.3.7)\n",
      "Requirement already satisfied: pandas in /kernel/fallback/lib/python3.9/site-packages (from datasets->auto-gptq) (1.4.4)\n",
      "Requirement already satisfied: xxhash in /kernel/fallback/lib/python3.9/site-packages (from datasets->auto-gptq) (2.0.0)\n",
      "Requirement already satisfied: multiprocess in /home/jupyter/.local/lib/python3.9/site-packages (from datasets->auto-gptq) (0.70.15)\n",
      "Requirement already satisfied: fsspec<=2023.10.0,>=2023.1.0 in /home/jupyter/.local/lib/python3.9/site-packages (from fsspec[http]<=2023.10.0,>=2023.1.0->datasets->auto-gptq) (2023.10.0)\n",
      "Requirement already satisfied: aiohttp in /home/jupyter/.local/lib/python3.9/site-packages (from datasets->auto-gptq) (3.8.6)\n",
      "Requirement already satisfied: six in /kernel/lib/python3.9/site-packages (from rouge->auto-gptq) (1.16.0)\n",
      "Requirement already satisfied: attrs>=17.3.0 in /kernel/lib/python3.9/site-packages (from aiohttp->datasets->auto-gptq) (23.1.0)\n",
      "Requirement already satisfied: charset-normalizer<4.0,>=2.0 in /kernel/lib/python3.9/site-packages (from aiohttp->datasets->auto-gptq) (3.3.2)\n",
      "Requirement already satisfied: multidict<7.0,>=4.5 in /home/jupyter/.local/lib/python3.9/site-packages (from aiohttp->datasets->auto-gptq) (6.0.4)\n",
      "Requirement already satisfied: async-timeout<5.0,>=4.0.0a3 in /home/jupyter/.local/lib/python3.9/site-packages (from aiohttp->datasets->auto-gptq) (4.0.3)\n",
      "Requirement already satisfied: yarl<2.0,>=1.0 in /home/jupyter/.local/lib/python3.9/site-packages (from aiohttp->datasets->auto-gptq) (1.9.2)\n",
      "Requirement already satisfied: frozenlist>=1.1.1 in /home/jupyter/.local/lib/python3.9/site-packages (from aiohttp->datasets->auto-gptq) (1.4.0)\n",
      "Requirement already satisfied: aiosignal>=1.1.2 in /home/jupyter/.local/lib/python3.9/site-packages (from aiohttp->datasets->auto-gptq) (1.3.1)\n",
      "Requirement already satisfied: idna<4,>=2.5 in /kernel/lib/python3.9/site-packages (from requests->transformers>=4.31.0->auto-gptq) (3.4)\n",
      "Requirement already satisfied: urllib3<3,>=1.21.1 in /kernel/fallback/lib/python3.9/site-packages (from requests->transformers>=4.31.0->auto-gptq) (1.26.18)\n",
      "Requirement already satisfied: certifi>=2017.4.17 in /kernel/lib/python3.9/site-packages (from requests->transformers>=4.31.0->auto-gptq) (2023.7.22)\n",
      "Requirement already satisfied: MarkupSafe>=2.0 in /kernel/lib/python3.9/site-packages (from jinja2->torch>=1.13.0->auto-gptq) (2.1.3)\n",
      "Requirement already satisfied: python-dateutil>=2.8.1 in /kernel/lib/python3.9/site-packages (from pandas->datasets->auto-gptq) (2.8.2)\n",
      "Requirement already satisfied: pytz>=2020.1 in /kernel/fallback/lib/python3.9/site-packages (from pandas->datasets->auto-gptq) (2023.3.post1)\n",
      "Requirement already satisfied: mpmath>=0.19 in /usr/local/lib/python3.9/dist-packages (from sympy->torch>=1.13.0->auto-gptq) (1.3.0)\n",
      "Defaulting to user installation because normal site-packages is not writeable\n",
      "Requirement already satisfied: scipy in /home/jupyter/.local/lib/python3.9/site-packages (1.11.3)\n",
      "Requirement already satisfied: numpy<1.28.0,>=1.21.6 in /home/jupyter/.local/lib/python3.9/site-packages (from scipy) (1.26.2)\n",
      "Defaulting to user installation because normal site-packages is not writeable\n",
      "Requirement already satisfied: accelerate in /home/jupyter/.local/lib/python3.9/site-packages (0.24.1)\n",
      "Requirement already satisfied: numpy>=1.17 in /home/jupyter/.local/lib/python3.9/site-packages (from accelerate) (1.26.2)\n",
      "Requirement already satisfied: packaging>=20.0 in /kernel/lib/python3.9/site-packages (from accelerate) (23.2)\n",
      "Requirement already satisfied: psutil in /kernel/lib/python3.9/site-packages (from accelerate) (5.7.3)\n",
      "Requirement already satisfied: pyyaml in /home/jupyter/.local/lib/python3.9/site-packages (from accelerate) (6.0.1)\n",
      "Requirement already satisfied: torch>=1.10.0 in /usr/local/lib/python3.9/dist-packages (from accelerate) (2.0.1)\n",
      "Requirement already satisfied: huggingface-hub in /home/jupyter/.local/lib/python3.9/site-packages (from accelerate) (0.17.3)\n",
      "Requirement already satisfied: filelock in /usr/local/lib/python3.9/dist-packages (from torch>=1.10.0->accelerate) (3.13.1)\n",
      "Requirement already satisfied: typing-extensions in /kernel/lib/python3.9/site-packages (from torch>=1.10.0->accelerate) (4.8.0)\n",
      "Requirement already satisfied: sympy in /usr/local/lib/python3.9/dist-packages (from torch>=1.10.0->accelerate) (1.12)\n",
      "Requirement already satisfied: networkx in /usr/local/lib/python3.9/dist-packages (from torch>=1.10.0->accelerate) (3.2.1)\n",
      "Requirement already satisfied: jinja2 in /kernel/lib/python3.9/site-packages (from torch>=1.10.0->accelerate) (3.1.2)\n",
      "Requirement already satisfied: nvidia-cuda-nvrtc-cu11==11.7.99 in /usr/local/lib/python3.9/dist-packages (from torch>=1.10.0->accelerate) (11.7.99)\n",
      "Requirement already satisfied: nvidia-cuda-runtime-cu11==11.7.99 in /usr/local/lib/python3.9/dist-packages (from torch>=1.10.0->accelerate) (11.7.99)\n",
      "Requirement already satisfied: nvidia-cuda-cupti-cu11==11.7.101 in /usr/local/lib/python3.9/dist-packages (from torch>=1.10.0->accelerate) (11.7.101)\n",
      "Requirement already satisfied: nvidia-cudnn-cu11==8.5.0.96 in /usr/local/lib/python3.9/dist-packages (from torch>=1.10.0->accelerate) (8.5.0.96)\n",
      "Requirement already satisfied: nvidia-cublas-cu11==11.10.3.66 in /usr/local/lib/python3.9/dist-packages (from torch>=1.10.0->accelerate) (11.10.3.66)\n",
      "Requirement already satisfied: nvidia-cufft-cu11==10.9.0.58 in /usr/local/lib/python3.9/dist-packages (from torch>=1.10.0->accelerate) (10.9.0.58)\n",
      "Requirement already satisfied: nvidia-curand-cu11==10.2.10.91 in /usr/local/lib/python3.9/dist-packages (from torch>=1.10.0->accelerate) (10.2.10.91)\n",
      "Requirement already satisfied: nvidia-cusolver-cu11==11.4.0.1 in /usr/local/lib/python3.9/dist-packages (from torch>=1.10.0->accelerate) (11.4.0.1)\n",
      "Requirement already satisfied: nvidia-cusparse-cu11==11.7.4.91 in /usr/local/lib/python3.9/dist-packages (from torch>=1.10.0->accelerate) (11.7.4.91)\n",
      "Requirement already satisfied: nvidia-nccl-cu11==2.14.3 in /usr/local/lib/python3.9/dist-packages (from torch>=1.10.0->accelerate) (2.14.3)\n",
      "Requirement already satisfied: nvidia-nvtx-cu11==11.7.91 in /usr/local/lib/python3.9/dist-packages (from torch>=1.10.0->accelerate) (11.7.91)\n",
      "Requirement already satisfied: triton==2.0.0 in /usr/local/lib/python3.9/dist-packages (from torch>=1.10.0->accelerate) (2.0.0)\n",
      "Requirement already satisfied: setuptools in /kernel/lib/python3.9/site-packages (from nvidia-cublas-cu11==11.10.3.66->torch>=1.10.0->accelerate) (51.0.0)\n",
      "Requirement already satisfied: wheel in /usr/local/lib/python3.9/dist-packages (from nvidia-cublas-cu11==11.10.3.66->torch>=1.10.0->accelerate) (0.41.3)\n",
      "Requirement already satisfied: cmake in /usr/local/lib/python3.9/dist-packages (from triton==2.0.0->torch>=1.10.0->accelerate) (3.27.7)\n",
      "Requirement already satisfied: lit in /usr/local/lib/python3.9/dist-packages (from triton==2.0.0->torch>=1.10.0->accelerate) (17.0.4)\n",
      "Requirement already satisfied: fsspec in /home/jupyter/.local/lib/python3.9/site-packages (from huggingface-hub->accelerate) (2023.10.0)\n",
      "Requirement already satisfied: requests in /kernel/fallback/lib/python3.9/site-packages (from huggingface-hub->accelerate) (2.31.0)\n",
      "Requirement already satisfied: tqdm>=4.42.1 in /home/jupyter/.local/lib/python3.9/site-packages (from huggingface-hub->accelerate) (4.66.1)\n",
      "Requirement already satisfied: MarkupSafe>=2.0 in /kernel/lib/python3.9/site-packages (from jinja2->torch>=1.10.0->accelerate) (2.1.3)\n",
      "Requirement already satisfied: charset-normalizer<4,>=2 in /kernel/lib/python3.9/site-packages (from requests->huggingface-hub->accelerate) (3.3.2)\n",
      "Requirement already satisfied: idna<4,>=2.5 in /kernel/lib/python3.9/site-packages (from requests->huggingface-hub->accelerate) (3.4)\n",
      "Requirement already satisfied: urllib3<3,>=1.21.1 in /kernel/fallback/lib/python3.9/site-packages (from requests->huggingface-hub->accelerate) (1.26.18)\n",
      "Requirement already satisfied: certifi>=2017.4.17 in /kernel/lib/python3.9/site-packages (from requests->huggingface-hub->accelerate) (2023.7.22)\n",
      "Requirement already satisfied: mpmath>=0.19 in /usr/local/lib/python3.9/dist-packages (from sympy->torch>=1.10.0->accelerate) (1.3.0)\n",
      "Defaulting to user installation because normal site-packages is not writeable\n",
      "Requirement already satisfied: optimum in /home/jupyter/.local/lib/python3.9/site-packages (1.14.1)\n",
      "Requirement already satisfied: coloredlogs in /home/jupyter/.local/lib/python3.9/site-packages (from optimum) (15.0.1)\n",
      "Requirement already satisfied: sympy in /usr/local/lib/python3.9/dist-packages (from optimum) (1.12)\n",
      "Requirement already satisfied: transformers>=4.26.0 in /home/jupyter/.local/lib/python3.9/site-packages (from transformers[sentencepiece]>=4.26.0->optimum) (4.35.1)\n",
      "Requirement already satisfied: torch>=1.9 in /usr/local/lib/python3.9/dist-packages (from optimum) (2.0.1)\n",
      "Requirement already satisfied: packaging in /kernel/lib/python3.9/site-packages (from optimum) (23.2)\n",
      "Requirement already satisfied: numpy in /home/jupyter/.local/lib/python3.9/site-packages (from optimum) (1.26.2)\n",
      "Requirement already satisfied: huggingface-hub>=0.8.0 in /home/jupyter/.local/lib/python3.9/site-packages (from optimum) (0.17.3)\n",
      "Requirement already satisfied: datasets in /home/jupyter/.local/lib/python3.9/site-packages (from optimum) (2.14.7)\n",
      "Requirement already satisfied: filelock in /usr/local/lib/python3.9/dist-packages (from huggingface-hub>=0.8.0->optimum) (3.13.1)\n",
      "Requirement already satisfied: fsspec in /home/jupyter/.local/lib/python3.9/site-packages (from huggingface-hub>=0.8.0->optimum) (2023.10.0)\n",
      "Requirement already satisfied: requests in /kernel/fallback/lib/python3.9/site-packages (from huggingface-hub>=0.8.0->optimum) (2.31.0)\n",
      "Requirement already satisfied: tqdm>=4.42.1 in /home/jupyter/.local/lib/python3.9/site-packages (from huggingface-hub>=0.8.0->optimum) (4.66.1)\n",
      "Requirement already satisfied: pyyaml>=5.1 in /home/jupyter/.local/lib/python3.9/site-packages (from huggingface-hub>=0.8.0->optimum) (6.0.1)\n",
      "Requirement already satisfied: typing-extensions>=3.7.4.3 in /kernel/lib/python3.9/site-packages (from huggingface-hub>=0.8.0->optimum) (4.8.0)\n",
      "Requirement already satisfied: networkx in /usr/local/lib/python3.9/dist-packages (from torch>=1.9->optimum) (3.2.1)\n",
      "Requirement already satisfied: jinja2 in /kernel/lib/python3.9/site-packages (from torch>=1.9->optimum) (3.1.2)\n",
      "Requirement already satisfied: nvidia-cuda-nvrtc-cu11==11.7.99 in /usr/local/lib/python3.9/dist-packages (from torch>=1.9->optimum) (11.7.99)\n",
      "Requirement already satisfied: nvidia-cuda-runtime-cu11==11.7.99 in /usr/local/lib/python3.9/dist-packages (from torch>=1.9->optimum) (11.7.99)\n",
      "Requirement already satisfied: nvidia-cuda-cupti-cu11==11.7.101 in /usr/local/lib/python3.9/dist-packages (from torch>=1.9->optimum) (11.7.101)\n",
      "Requirement already satisfied: nvidia-cudnn-cu11==8.5.0.96 in /usr/local/lib/python3.9/dist-packages (from torch>=1.9->optimum) (8.5.0.96)\n",
      "Requirement already satisfied: nvidia-cublas-cu11==11.10.3.66 in /usr/local/lib/python3.9/dist-packages (from torch>=1.9->optimum) (11.10.3.66)\n",
      "Requirement already satisfied: nvidia-cufft-cu11==10.9.0.58 in /usr/local/lib/python3.9/dist-packages (from torch>=1.9->optimum) (10.9.0.58)\n",
      "Requirement already satisfied: nvidia-curand-cu11==10.2.10.91 in /usr/local/lib/python3.9/dist-packages (from torch>=1.9->optimum) (10.2.10.91)\n",
      "Requirement already satisfied: nvidia-cusolver-cu11==11.4.0.1 in /usr/local/lib/python3.9/dist-packages (from torch>=1.9->optimum) (11.4.0.1)\n",
      "Requirement already satisfied: nvidia-cusparse-cu11==11.7.4.91 in /usr/local/lib/python3.9/dist-packages (from torch>=1.9->optimum) (11.7.4.91)\n",
      "Requirement already satisfied: nvidia-nccl-cu11==2.14.3 in /usr/local/lib/python3.9/dist-packages (from torch>=1.9->optimum) (2.14.3)\n",
      "Requirement already satisfied: nvidia-nvtx-cu11==11.7.91 in /usr/local/lib/python3.9/dist-packages (from torch>=1.9->optimum) (11.7.91)\n",
      "Requirement already satisfied: triton==2.0.0 in /usr/local/lib/python3.9/dist-packages (from torch>=1.9->optimum) (2.0.0)\n",
      "Requirement already satisfied: setuptools in /kernel/lib/python3.9/site-packages (from nvidia-cublas-cu11==11.10.3.66->torch>=1.9->optimum) (51.0.0)\n",
      "Requirement already satisfied: wheel in /usr/local/lib/python3.9/dist-packages (from nvidia-cublas-cu11==11.10.3.66->torch>=1.9->optimum) (0.41.3)\n",
      "Requirement already satisfied: cmake in /usr/local/lib/python3.9/dist-packages (from triton==2.0.0->torch>=1.9->optimum) (3.27.7)\n",
      "Requirement already satisfied: lit in /usr/local/lib/python3.9/dist-packages (from triton==2.0.0->torch>=1.9->optimum) (17.0.4)\n",
      "Requirement already satisfied: regex!=2019.12.17 in /home/jupyter/.local/lib/python3.9/site-packages (from transformers>=4.26.0->transformers[sentencepiece]>=4.26.0->optimum) (2023.10.3)\n",
      "Requirement already satisfied: tokenizers<0.15,>=0.14 in /home/jupyter/.local/lib/python3.9/site-packages (from transformers>=4.26.0->transformers[sentencepiece]>=4.26.0->optimum) (0.14.1)\n",
      "Requirement already satisfied: safetensors>=0.3.1 in /home/jupyter/.local/lib/python3.9/site-packages (from transformers>=4.26.0->transformers[sentencepiece]>=4.26.0->optimum) (0.4.0)\n",
      "Requirement already satisfied: sentencepiece!=0.1.92,>=0.1.91 in /home/jupyter/.local/lib/python3.9/site-packages (from transformers[sentencepiece]>=4.26.0->optimum) (0.1.99)\n",
      "Requirement already satisfied: protobuf in /home/jupyter/.local/lib/python3.9/site-packages (from transformers[sentencepiece]>=4.26.0->optimum) (4.25.0)\n",
      "Requirement already satisfied: humanfriendly>=9.1 in /home/jupyter/.local/lib/python3.9/site-packages (from coloredlogs->optimum) (10.0)\n",
      "Requirement already satisfied: pyarrow>=8.0.0 in /home/jupyter/.local/lib/python3.9/site-packages (from datasets->optimum) (14.0.1)\n",
      "Requirement already satisfied: pyarrow-hotfix in /home/jupyter/.local/lib/python3.9/site-packages (from datasets->optimum) (0.5)\n",
      "Requirement already satisfied: dill<0.3.8,>=0.3.0 in /home/jupyter/.local/lib/python3.9/site-packages (from datasets->optimum) (0.3.7)\n",
      "Requirement already satisfied: pandas in /kernel/fallback/lib/python3.9/site-packages (from datasets->optimum) (1.4.4)\n",
      "Requirement already satisfied: xxhash in /kernel/fallback/lib/python3.9/site-packages (from datasets->optimum) (2.0.0)\n",
      "Requirement already satisfied: multiprocess in /home/jupyter/.local/lib/python3.9/site-packages (from datasets->optimum) (0.70.15)\n",
      "Requirement already satisfied: aiohttp in /home/jupyter/.local/lib/python3.9/site-packages (from datasets->optimum) (3.8.6)\n",
      "Requirement already satisfied: mpmath>=0.19 in /usr/local/lib/python3.9/dist-packages (from sympy->optimum) (1.3.0)\n",
      "Requirement already satisfied: attrs>=17.3.0 in /kernel/lib/python3.9/site-packages (from aiohttp->datasets->optimum) (23.1.0)\n",
      "Requirement already satisfied: charset-normalizer<4.0,>=2.0 in /kernel/lib/python3.9/site-packages (from aiohttp->datasets->optimum) (3.3.2)\n",
      "Requirement already satisfied: multidict<7.0,>=4.5 in /home/jupyter/.local/lib/python3.9/site-packages (from aiohttp->datasets->optimum) (6.0.4)\n",
      "Requirement already satisfied: async-timeout<5.0,>=4.0.0a3 in /home/jupyter/.local/lib/python3.9/site-packages (from aiohttp->datasets->optimum) (4.0.3)\n",
      "Requirement already satisfied: yarl<2.0,>=1.0 in /home/jupyter/.local/lib/python3.9/site-packages (from aiohttp->datasets->optimum) (1.9.2)\n",
      "Requirement already satisfied: frozenlist>=1.1.1 in /home/jupyter/.local/lib/python3.9/site-packages (from aiohttp->datasets->optimum) (1.4.0)\n",
      "Requirement already satisfied: aiosignal>=1.1.2 in /home/jupyter/.local/lib/python3.9/site-packages (from aiohttp->datasets->optimum) (1.3.1)\n",
      "Requirement already satisfied: idna<4,>=2.5 in /kernel/lib/python3.9/site-packages (from requests->huggingface-hub>=0.8.0->optimum) (3.4)\n",
      "Requirement already satisfied: urllib3<3,>=1.21.1 in /kernel/fallback/lib/python3.9/site-packages (from requests->huggingface-hub>=0.8.0->optimum) (1.26.18)\n",
      "Requirement already satisfied: certifi>=2017.4.17 in /kernel/lib/python3.9/site-packages (from requests->huggingface-hub>=0.8.0->optimum) (2023.7.22)\n",
      "Requirement already satisfied: MarkupSafe>=2.0 in /kernel/lib/python3.9/site-packages (from jinja2->torch>=1.9->optimum) (2.1.3)\n",
      "Requirement already satisfied: python-dateutil>=2.8.1 in /kernel/lib/python3.9/site-packages (from pandas->datasets->optimum) (2.8.2)\n",
      "Requirement already satisfied: pytz>=2020.1 in /kernel/fallback/lib/python3.9/site-packages (from pandas->datasets->optimum) (2023.3.post1)\n",
      "Requirement already satisfied: six>=1.5 in /kernel/lib/python3.9/site-packages (from python-dateutil>=2.8.1->pandas->datasets->optimum) (1.16.0)\n"
     ]
    }
   ],
   "source": [
    "#!g1.1\n",
    "%pip install transformers\n",
    "%pip install auto-gptq\n",
    "%pip install scipy\n",
    "%pip install accelerate\n",
    "%pip install optimum"
   ]
  },
  {
   "cell_type": "code",
   "execution_count": 32,
   "id": "47ca168c",
   "metadata": {
    "cellId": "ynoq62hs1sawms06ijffxq",
    "execution": {
     "iopub.execute_input": "2023-11-22T05:46:02.855791326Z",
     "iopub.status.busy": "2023-11-22T05:46:22.950553Z",
     "iopub.status.idle": "2023-11-22T05:46:26.162102Z",
     "shell.execute_reply": "2023-11-22T05:46:26.160701Z",
     "shell.execute_reply.started": "2023-11-22T05:46:22.951449Z"
    }
   },
   "outputs": [
    {
     "name": "stderr",
     "output_type": "stream",
     "text": [
      "huggingface/tokenizers: The current process just got forked, after parallelism has already been used. Disabling parallelism to avoid deadlocks...\n",
      "To disable this warning, you can either:\n",
      "\t- Avoid using `tokenizers` before the fork if possible\n",
      "\t- Explicitly set the environment variable TOKENIZERS_PARALLELISM=(true | false)\n"
     ]
    },
    {
     "name": "stdout",
     "output_type": "stream",
     "text": [
      "Defaulting to user installation because normal site-packages is not writeable\n",
      "Requirement already satisfied: scikit-learn in /home/jupyter/.local/lib/python3.9/site-packages (1.3.2)\n",
      "Requirement already satisfied: numpy<2.0,>=1.17.3 in /home/jupyter/.local/lib/python3.9/site-packages (from scikit-learn) (1.26.2)\n",
      "Requirement already satisfied: scipy>=1.5.0 in /home/jupyter/.local/lib/python3.9/site-packages (from scikit-learn) (1.11.3)\n",
      "Requirement already satisfied: joblib>=1.1.1 in /home/jupyter/.local/lib/python3.9/site-packages (from scikit-learn) (1.3.2)\n",
      "Requirement already satisfied: threadpoolctl>=2.0.0 in /home/jupyter/.local/lib/python3.9/site-packages (from scikit-learn) (3.2.0)\n"
     ]
    }
   ],
   "source": [
    "#!g1.1\n",
    "%pip install scikit-learn"
   ]
  },
  {
   "cell_type": "code",
   "execution_count": 33,
   "id": "c333ad47",
   "metadata": {
    "cellId": "1pvb4144j5m16bdok3r1fg",
    "execution": {
     "iopub.execute_input": "2023-11-22T05:46:03.449325379Z",
     "iopub.status.busy": "2023-11-22T05:46:27.416237Z",
     "iopub.status.idle": "2023-11-22T05:46:36.941445Z",
     "shell.execute_reply": "2023-11-22T05:46:36.940187Z",
     "shell.execute_reply.started": "2023-11-22T05:46:27.417265Z"
    }
   },
   "outputs": [
    {
     "name": "stderr",
     "output_type": "stream",
     "text": [
      "huggingface/tokenizers: The current process just got forked, after parallelism has already been used. Disabling parallelism to avoid deadlocks...\n",
      "To disable this warning, you can either:\n",
      "\t- Avoid using `tokenizers` before the fork if possible\n",
      "\t- Explicitly set the environment variable TOKENIZERS_PARALLELISM=(true | false)\n"
     ]
    }
   ],
   "source": [
    "#!g1.1\n",
    "import torch\n",
    "import transformers\n",
    "from transformers import get_linear_schedule_with_warmup\n",
    "from torch.utils.data import DataLoader, RandomSampler, SequentialSampler, TensorDataset\n",
    "import pandas as pd\n",
    "import numpy as np\n",
    "import random\n",
    "import torch.nn as nn\n",
    "from transformers import AutoModelForCausalLM, AutoTokenizer, AdamW\n",
    "from sklearn.metrics import classification_report, f1_score\n",
    "from sklearn.model_selection import train_test_split\n",
    "from sklearn.preprocessing import LabelEncoder"
   ]
  },
  {
   "cell_type": "code",
   "execution_count": 34,
   "id": "62f0ed5b",
   "metadata": {
    "cellId": "x7tmmbwdstvzvsusow2hq",
    "execution": {
     "iopub.execute_input": "2023-11-22T05:46:04.059643872Z",
     "iopub.status.busy": "2023-11-22T05:46:37.872329Z",
     "iopub.status.idle": "2023-11-22T05:46:40.528537Z",
     "shell.execute_reply": "2023-11-22T05:46:40.527389Z",
     "shell.execute_reply.started": "2023-11-22T05:46:37.873255Z"
    }
   },
   "outputs": [
    {
     "name": "stderr",
     "output_type": "stream",
     "text": [
      "Downloading tokenizer_config.json: 100%|██████████| 727/727 [00:00<00:00, 90.1kB/s]\n",
      "Downloading tokenizer.model: 100%|██████████| 568k/568k [00:00<00:00, 1.52MB/s]\n",
      "Downloading tokenizer.json: 100%|██████████| 1.96M/1.96M [00:00<00:00, 8.86MB/s]\n",
      "Downloading (…)cial_tokens_map.json: 100%|██████████| 411/411 [00:00<00:00, 178kB/s]\n"
     ]
    }
   ],
   "source": [
    "#!g1.1\n",
    "tokenizer = AutoTokenizer.from_pretrained(\"TheBloke/OpenBuddy-Llama2-13B-v11.1-GPTQ\")"
   ]
  },
  {
   "cell_type": "code",
   "execution_count": 35,
   "id": "21cd4fcd",
   "metadata": {
    "cellId": "dnnp8wytkhm9q6rl55in9l",
    "execution": {
     "iopub.execute_input": "2023-11-22T05:46:04.640161537Z",
     "iopub.status.busy": "2023-11-22T05:46:41.439313Z",
     "iopub.status.idle": "2023-11-22T05:50:58.949191Z",
     "shell.execute_reply": "2023-11-22T05:50:58.947960Z",
     "shell.execute_reply.started": "2023-11-22T05:46:41.440176Z"
    }
   },
   "outputs": [
    {
     "name": "stderr",
     "output_type": "stream",
     "text": [
      "Downloading config.json: 100%|██████████| 981/981 [00:00<00:00, 288kB/s]\n",
      "huggingface/tokenizers: The current process just got forked, after parallelism has already been used. Disabling parallelism to avoid deadlocks...\n",
      "To disable this warning, you can either:\n",
      "\t- Avoid using `tokenizers` before the fork if possible\n",
      "\t- Explicitly set the environment variable TOKENIZERS_PARALLELISM=(true | false)\n",
      "CUDA extension not installed.\n",
      "CUDA extension not installed.\n",
      "Downloading model.safetensors: 100%|██████████| 7.37G/7.37G [04:00<00:00, 30.7MB/s]\n"
     ]
    }
   ],
   "source": [
    "#!g1.1\n",
    "model = AutoModelForCausalLM.from_pretrained(\"TheBloke/OpenBuddy-Llama2-13B-v11.1-GPTQ\", device_map='cuda')"
   ]
  },
  {
   "cell_type": "code",
   "execution_count": 37,
   "id": "59b620a8",
   "metadata": {
    "cellId": "nd9rc6lycafqmsilr2dfem",
    "execution": {
     "iopub.execute_input": "2023-11-22T05:46:05.967823072Z",
     "iopub.status.busy": "2023-11-22T05:52:12.860468Z",
     "iopub.status.idle": "2023-11-22T05:52:12.875606Z",
     "shell.execute_reply": "2023-11-22T05:52:12.874504Z",
     "shell.execute_reply.started": "2023-11-22T05:52:12.861835Z"
    }
   },
   "outputs": [],
   "source": [
    "#!g1.1\n",
    "# Пример использования:\n",
    "text = '''\n",
    "Введение\n",
    "1. Краткая характеристика Тамбовской области. Оценка достигнутых целей и анализ потенциала социально-экономического развития Тамбовской области\n",
    "1.1. Краткая характеристика Тамбовской области\n",
    "1.2. Оценка достигнутых целей и анализ потенциала социально-экономического развития Тамбовской области\n",
    "2. Стратегическая цель и приоритеты долгосрочного развития Тамбовской области\n",
    "3. Целевой сценарий развития Тамбовской области\n",
    "4. Сроки и этапы реализации Стратегии, показатели достижения целей и ожидаемые результаты реализации Стратегии\n",
    "5. Стратегические направления и задачи развития Тамбовской области\n",
    "5.1. Социальная модернизация на базе создания конкурентной среды, инноваций и цифровизации социальной сферы\n",
    "5.2. Обеспечение комфортной и здоровой жизни населения на основе удобной и доступной инфраструктуры, благоприятной для проживания окружающей среды\n",
    "5.3. Новая индустриализация, переход к цифровой и постиндустриальной экономике\n",
    "5.4. Реформирование государственного и муниципального управления, взаимодействия государства, бизнеса и общества, расширение самоуправления и демократизация\n",
    "6. Информация о государственных программах и иных механизмах реализации Стратегии\n",
    "7. Оценка финансовых ресурсов, необходимых для реализации Стратегии\n",
    "Таблица. Оценка финансового обеспечения Стратегии\n",
    "Приложение 1. ОСНОВНЫЕ ПОКАЗАТЕЛИ СОЦИАЛЬНО-ЭКОНОМИЧЕСКОГО РАЗВИТИЯ ТАМБОВСКОЙ ОБЛАСТИ ЗА 2010 - 2016 ГГ.\n",
    "Приложение 2. СВОТ-АНАЛИЗ СОЦИАЛЬНО-ЭКОНОМИЧЕСКОГО РАЗВИТИЯ ТАМБОВСКОЙ ОБЛАСТИ\n",
    "Приложение 3. ДИНАМИКА ЦЕЛЕВЫХ ПОКАЗАТЕЛЕЙ СОЦИАЛЬНО-ЭКОНОМИЧЕСКОГО РАЗВИТИЯ ТАМБОВСКОЙ ОБЛАСТИ ДО 2035 ГОДА\n",
    "Приоритетное направление 1. Социальная модернизация на базе создания конкурентной среды, инноваций и цифровизации социальной сферы\n",
    "Приоритетное направление 2. Обеспечение комфортной и здоровой жизни населения на основе удобной и доступной инфраструктуры, благоприятной для проживания окружающей среды\n",
    "Приоритетное направление 3. Новая индустриализация, переход к цифровой и постиндустриальной экономике\n",
    "Приоритетное направление 4. Реформирование государственного и муниципального управления, взаимодействия государства, бизнеса и общества, расширение самоуправления и демократизация\n",
    "Приложение 4. ПЕРЕЧЕНЬ ГОСУДАРСТВЕННЫХ ПРОГРАММ ТАМБОВСКОЙ ОБЛАСТИ (С НАИМЕНОВАНИЕМ КЛЮЧЕВЫХ ПРОЕКТОВ, СООТВЕТСТВУЮЩИХ ПРИОРИТЕТНЫМ НАПРАВЛЕНИЯМ СТРАТЕГИИ СОЦИАЛЬНО-ЭКОНОМИЧЕСКОГО РАЗВИТИЯ ТАМБОВСКОЙ ОБЛАСТИ И ПЛАНИРУЕМЫХ К РЕАЛИЗАЦИИ В РАМКАХ ГОСУДАРСТВЕННЫХ ПРОГРАММ ОБЛАСТИ)\n",
    "\n",
    "'''"
   ]
  },
  {
   "cell_type": "code",
   "execution_count": 38,
   "id": "a1993c69",
   "metadata": {
    "cellId": "v143s1hlpkoxbkp4ejqq8",
    "execution": {
     "iopub.execute_input": "2023-11-22T05:46:06.650761567Z",
     "iopub.status.busy": "2023-11-22T05:52:13.724858Z",
     "iopub.status.idle": "2023-11-22T05:52:26.057690Z",
     "shell.execute_reply": "2023-11-22T05:52:26.056431Z",
     "shell.execute_reply.started": "2023-11-22T05:52:13.725864Z"
    }
   },
   "outputs": [
    {
     "name": "stdout",
     "output_type": "stream",
     "text": [
      "\n",
      "Введение\n",
      "1. Краткая характеристика Тамбовской области. Оценка достигнутых целей и анализ потенциала социально-экономического развития Тамбовской области\n",
      "1.1. Краткая характеристика Тамбовской области\n",
      "1.2. Оценка достигнутых целей и анализ потенциала социально-экономического развития Тамбовской области\n",
      "2. Стратегическая цель и приоритеты долгосрочного развития Тамбовской области\n",
      "3. Целевой сценарий развития Тамбовской области\n",
      "4. Сроки и этапы реализации Стратегии, показатели достижения целей и ожидаемые результаты реализации Стратегии\n",
      "5. Стратегические направления и задачи развития Тамбовской области\n",
      "5.1. Социальная модернизация на базе создания конкурентной среды, инноваций и цифровизации социальной сферы\n",
      "5.2. Обеспечение комфортной и здоровой жизни населения на основе удобной и доступной инфраструктуры, благоприятной для проживания окружающей среды\n",
      "5.3. Новая индустриализация, переход к цифровой и постиндустриальной экономике\n",
      "5.4. Реформирование государственного и муниципального управления, взаимодействия государства, бизнеса и общества, расширение самоуправления и демократизация\n",
      "6. Информация о государственных программах и иных механизмах реализации Стратегии\n",
      "7. Оценка финансовых ресурсов, необходимых для реализации Стратегии\n",
      "Таблица. Оценка финансового обеспечения Стратегии\n",
      "Приложение 1. ОСНОВНЫЕ ПОКАЗАТЕЛИ СОЦИАЛЬНО-ЭКОНОМИЧЕСКОГО РАЗВИТИЯ ТАМБОВСКОЙ ОБЛАСТИ ЗА 2010 - 2016 ГГ.\n",
      "Приложение 2. СВОТ-АНАЛИЗ СОЦИАЛЬНО-ЭКОНОМИЧЕСКОГО РАЗВИТИЯ ТАМБОВСКОЙ ОБЛАСТИ\n",
      "Приложение 3. ДИНАМИКА ЦЕЛЕВЫХ ПОКАЗАТЕЛЕЙ СОЦИАЛЬНО-ЭКОНОМИЧЕСКОГО РАЗВИТИЯ ТАМБОВСКОЙ ОБЛАСТИ ДО 2035 ГОДА\n",
      "Приоритетное направление 1. Социальная модернизация на базе создания конкурентной среды, инноваций и цифровизации социальной сферы\n",
      "Приоритетное направление 2. Обеспечение комфортной и здоровой жизни населения на основе удобной и доступной инфраструктуры, благоприятной для проживания окружающей среды\n",
      "Приоритетное направление 3. Новая индустриализация, переход к цифровой и постиндустриальной экономике\n",
      "Приоритетное направление 4. Реформирование государственного и муниципального управления, взаимодействия государства, бизнеса и общества, расширение самоуправления и демократизация\n",
      "Приложение 4. ПЕРЕЧЕНЬ ГОСУДАРСТВЕННЫХ ПРОГРАММ ТАМБОВСКОЙ ОБЛАСТИ (С НАИМЕНОВАНИЕМ КЛЮЧЕВЫХ ПРОЕКТОВ, СООТВЕТСТВУЮЩИХ ПРИОРИТЕТНЫМ НАПРАВЛЕНИЯМ СТРАТЕГИИ СОЦИАЛЬНО-ЭКОНОМИЧЕСКОГО РАЗВИТИЯ ТАМБОВСКОЙ ОБЛАСТИ И ПЛАНИРУЕМЫХ К РЕАЛИЗАЦИИ В РАМКАХ ГОСУДАРСТВЕННЫХ ПРОГРАММ ОБЛАСТИ)\n",
      "\n",
      "\n",
      "\n",
      "User: Есть ли в данном тексте раздел введение? \n",
      "Assistant: Да, в данном тексте есть раздел \"Введение\".\n",
      "\n"
     ]
    }
   ],
   "source": [
    "#!g1.1\n",
    "prompt = text\n",
    "\n",
    "prompt += \"\\n\\nUser: Есть ли в данном тексте раздел введение? \\nAssistant:\"\n",
    "input_ids = tokenizer.encode(prompt, return_tensors='pt').to('cuda')\n",
    "\n",
    "with torch.no_grad():\n",
    "    output_ids = model.generate(\n",
    "        input_ids=input_ids,\n",
    "        max_new_tokens=100,\n",
    "        eos_token_id=tokenizer.eos_token_id)\n",
    "\n",
    "print(tokenizer.decode(output_ids[0], skip_special_tokens=True))"
   ]
  },
  {
   "cell_type": "code",
   "execution_count": 39,
   "id": "558b8885",
   "metadata": {
    "cellId": "g2rrr7cd8mpcspynkiqi",
    "execution": {
     "iopub.execute_input": "2023-11-22T05:46:07.260485787Z",
     "iopub.status.busy": "2023-11-22T05:52:26.887554Z",
     "iopub.status.idle": "2023-11-22T05:52:26.904080Z",
     "shell.execute_reply": "2023-11-22T05:52:26.903095Z",
     "shell.execute_reply.started": "2023-11-22T05:52:26.888781Z"
    }
   },
   "outputs": [],
   "source": [
    "#!g1.1\n",
    "#!g1.1\n",
    "# Пример использования:\n",
    "text = '''\n",
    "Основные положения\n",
    "1. Анализ социально-экономического развития Тюменской области\n",
    "1.1. Оценка достигнутых целей и уровня социально-экономического развития Тюменской области\n",
    "1.2. Анализ внутренних и внешних факторов, возможностей и ограничений развития Тюменской области\n",
    "2. Сценарии развития Тюменской области\n",
    "Консервативный сценарий\n",
    "Базовый сценарий\n",
    "3. Приоритеты социально-экономического развития Тюменской области\n",
    "3.1. Стратегическое видение социально-экономического развития Тюменской области\n",
    "3.2. Стратегические приоритеты, цели, задачи и направления социально-экономической политики Тюменской области\n",
    "4. Механизмы реализации Стратегии\n",
    "5. Оценка финансовых ресурсов для реализации Стратегии\n",
    "Таблица 11 - Расходы консолидированного бюджета Тюменской области на реализацию мероприятий первого этапа Стратегии (2020 - 2022 годы), млрд рублей\n",
    "Таблица 12 - Расходы консолидированного бюджета Тюменской области на реализацию мероприятий второго этапа Стратегии (2023 - 2025 годы), млрд рублей\n",
    "Таблица 13 - Расходы консолидированного бюджета Тюменской области на реализацию мероприятий третьего этапа Стратегии (2026 - 2030 годы), млрд рублей\n",
    "6. Ожидаемые результаты реализации Стратегии\n",
    "6.1. Этапы и ожидаемые результаты реализации Стратегии\n",
    "6.2. Показатели достижения целей социально-экономического развития Тюменской области\n",
    "Приложение 1. Таблица - Основные показатели социально-экономического развития Тюменской области\n",
    "Приложение 2. Таблица - Типологизация и определение интересов субъектов стратегического развития Тюменской области\n",
    "Приложение 3. Таблица - Перечень государственных программ Тюменской области\n",
    "Приложение 4. ИНВЕСТИЦИОННАЯ СТРАТЕГИЯ ТЮМЕНСКОЙ ОБЛАСТИ\n",
    "Цели, задачи и результаты реализации Инвестиционной стратегии\n",
    "Сценарии развития Инвестиционной стратегии\n",
    "Приоритетные направления улучшения инвестиционного климата\n",
    "Ключевые инвестиционные проекты Тюменской области\n",
    "Приложение 5. ИНВЕСТИЦИОННЫЕ ПРОЕКТЫ ТЮМЕНСКОЙ ОБЛАСТИ (ПО СОСТОЯНИЮ НА 17.01.2020, ИСТОЧНИК ИНФОРМАЦИИ - РЕЕСТР ИНВЕСТИЦИОННЫХ, ИННОВАЦИОННЫХ ПРОЕКТОВ И ИНФРАСТРУКТУРНЫХ ПЛОЩАДОК ТЮМЕНСКОЙ ОБЛАСТИ, ЗАКЛЮЧЕННЫЕ КОНЦЕССИОННЫЕ СОГЛАШЕНИЯ)\n",
    "Таблица 1 - Проекты в стадии реализации (с объемами инвестиций более 100 млн рублей)\n",
    "Таблица 2 - Планируемые к реализации и перспективные проекты (с объемами инвестиций более 100 млн рублей)\n",
    "Приложение 6. СТРАТЕГИЯ В ОБЛАСТИ ОБЕСПЕЧЕНИЯ БЛАГОПРИЯТНЫХ УСЛОВИЙ ДЛЯ ВЕДЕНИЯ ЭКСПОРТНОЙ ДЕЯТЕЛЬНОСТИ\n",
    "1. Текущее состояние экспортной деятельности\n",
    "2. Анализ потенциально-перспективных экспортных направлений\n",
    "3. Анализ основных внутренних и внешних барьеров, с которыми сталкиваются экспортеры. Мероприятия по устранению выявленных барьеров\n",
    "4. Цель и задачи в части развития экспорта\n",
    "5. Формат и принцип взаимодействия органов исполнительной власти с экспортерами региона, отраслевыми ассоциациями экспортеров\n",
    "6. Механизм реализации политики в области обеспечения благоприятных условий для ведения экспортной деятельности\n",
    "7. Ресурсы, необходимые для реализации Экспортной стратегии\n",
    "8. Ожидаемые результаты в части обеспечения благоприятных условий для ведения экспортной деятельности к 2030 году\n",
    "Приложение 7. ДОКУМЕНТЫ СТРАТЕГИЧЕСКОГО ПЛАНИРОВАНИЯ РОССИЙСКОЙ ФЕДЕРАЦИИ И ДРУГИЕ НОРМАТИВНЫЕ ПРАВОВЫЕ И ПРАВОВЫЕ АКТЫ РОССИЙСКОЙ ФЕДЕРАЦИИ, УЧТЕННЫЕ ПРИ РАЗРАБОТКЕ СТРАТЕГИИ\n",
    "\n",
    "'''"
   ]
  },
  {
   "cell_type": "code",
   "execution_count": 40,
   "id": "7319d286",
   "metadata": {
    "cellId": "j14so0gydysmywhfgx5mll",
    "execution": {
     "iopub.execute_input": "2023-11-22T05:46:07.865725653Z",
     "iopub.status.busy": "2023-11-22T05:52:27.733230Z",
     "iopub.status.idle": "2023-11-22T05:53:05.334874Z",
     "shell.execute_reply": "2023-11-22T05:53:05.333509Z",
     "shell.execute_reply.started": "2023-11-22T05:52:27.734297Z"
    }
   },
   "outputs": [
    {
     "name": "stdout",
     "output_type": "stream",
     "text": [
      "\n",
      "Основные положения\n",
      "1. Анализ социально-экономического развития Тюменской области\n",
      "1.1. Оценка достигнутых целей и уровня социально-экономического развития Тюменской области\n",
      "1.2. Анализ внутренних и внешних факторов, возможностей и ограничений развития Тюменской области\n",
      "2. Сценарии развития Тюменской области\n",
      "Консервативный сценарий\n",
      "Базовый сценарий\n",
      "3. Приоритеты социально-экономического развития Тюменской области\n",
      "3.1. Стратегическое видение социально-экономического развития Тюменской области\n",
      "3.2. Стратегические приоритеты, цели, задачи и направления социально-экономической политики Тюменской области\n",
      "4. Механизмы реализации Стратегии\n",
      "5. Оценка финансовых ресурсов для реализации Стратегии\n",
      "Таблица 11 - Расходы консолидированного бюджета Тюменской области на реализацию мероприятий первого этапа Стратегии (2020 - 2022 годы), млрд рублей\n",
      "Таблица 12 - Расходы консолидированного бюджета Тюменской области на реализацию мероприятий второго этапа Стратегии (2023 - 2025 годы), млрд рублей\n",
      "Таблица 13 - Расходы консолидированного бюджета Тюменской области на реализацию мероприятий третьего этапа Стратегии (2026 - 2030 годы), млрд рублей\n",
      "6. Ожидаемые результаты реализации Стратегии\n",
      "6.1. Этапы и ожидаемые результаты реализации Стратегии\n",
      "6.2. Показатели достижения целей социально-экономического развития Тюменской области\n",
      "Приложение 1. Таблица - Основные показатели социально-экономического развития Тюменской области\n",
      "Приложение 2. Таблица - Типологизация и определение интересов субъектов стратегического развития Тюменской области\n",
      "Приложение 3. Таблица - Перечень государственных программ Тюменской области\n",
      "Приложение 4. ИНВЕСТИЦИОННАЯ СТРАТЕГИЯ ТЮМЕНСКОЙ ОБЛАСТИ\n",
      "Цели, задачи и результаты реализации Инвестиционной стратегии\n",
      "Сценарии развития Инвестиционной стратегии\n",
      "Приоритетные направления улучшения инвестиционного климата\n",
      "Ключевые инвестиционные проекты Тюменской области\n",
      "Приложение 5. ИНВЕСТИЦИОННЫЕ ПРОЕКТЫ ТЮМЕНСКОЙ ОБЛАСТИ (ПО СОСТОЯНИЮ НА 17.01.2020, ИСТОЧНИК ИНФОРМАЦИИ - РЕЕСТР ИНВЕСТИЦИОННЫХ, ИННОВАЦИОННЫХ ПРОЕКТОВ И ИНФРАСТРУКТУРНЫХ ПЛОЩАДОК ТЮМЕНСКОЙ ОБЛАСТИ, ЗАКЛЮЧЕННЫЕ КОНЦЕССИОННЫЕ СОГЛАШЕНИЯ)\n",
      "Таблица 1 - Проекты в стадии реализации (с объемами инвестиций более 100 млн рублей)\n",
      "Таблица 2 - Планируемые к реализации и перспективные проекты (с объемами инвестиций более 100 млн рублей)\n",
      "Приложение 6. СТРАТЕГИЯ В ОБЛАСТИ ОБЕСПЕЧЕНИЯ БЛАГОПРИЯТНЫХ УСЛОВИЙ ДЛЯ ВЕДЕНИЯ ЭКСПОРТНОЙ ДЕЯТЕЛЬНОСТИ\n",
      "1. Текущее состояние экспортной деятельности\n",
      "2. Анализ потенциально-перспективных экспортных направлений\n",
      "3. Анализ основных внутренних и внешних барьеров, с которыми сталкиваются экспортеры. Мероприятия по устранению выявленных барьеров\n",
      "4. Цель и задачи в части развития экспорта\n",
      "5. Формат и принцип взаимодействия органов исполнительной власти с экспортерами региона, отраслевыми ассоциациями экспортеров\n",
      "6. Механизм реализации политики в области обеспечения благоприятных условий для ведения экспортной деятельности\n",
      "7. Ресурсы, необходимые для реализации Экспортной стратегии\n",
      "8. Ожидаемые результаты в части обеспечения благоприятных условий для ведения экспортной деятельности к 2030 году\n",
      "Приложение 7. ДОКУМЕНТЫ СТРАТЕГИЧЕСКОГО ПЛАНИРОВАНИЯ РОССИЙСКОЙ ФЕДЕРАЦИИ И ДРУГИЕ НОРМАТИВНЫЕ ПРАВОВЫЕ И ПРАВОВЫЕ АКТЫ РОССИЙСКОЙ ФЕДЕРАЦИИ, УЧТЕННЫЕ ПРИ РАЗРАБОТКЕ СТРАТЕГИИ\n",
      "\n",
      "\n",
      "\n",
      "User: Есть ли в данном тексте раздел с целевым сценарием социально-экономического развития? \n",
      "Assistant: Да, в данном тексте есть раздел \"Сценарии развития Тюменской области\", который содержит консервативный, базовый и оптимистический сценарии развития Тюменской области.\n",
      "\n"
     ]
    }
   ],
   "source": [
    "#!g1.1\n",
    "#!g1.1\n",
    "prompt = text\n",
    "\n",
    "prompt += \"\\n\\nUser: Есть ли в данном тексте раздел с целевым сценарием социально-экономического развития? \\nAssistant:\"\n",
    "input_ids = tokenizer.encode(prompt, return_tensors='pt').to('cuda')\n",
    "\n",
    "with torch.no_grad():\n",
    "    output_ids = model.generate(\n",
    "        input_ids=input_ids,\n",
    "        max_new_tokens=100,\n",
    "        eos_token_id=tokenizer.eos_token_id)\n",
    "\n",
    "print(tokenizer.decode(output_ids[0], skip_special_tokens=True))"
   ]
  },
  {
   "cell_type": "code",
   "execution_count": null,
   "id": "faff2365",
   "metadata": {
    "cellId": "zfboh39j9kx2ixbbew15"
   },
   "outputs": [],
   "source": [
    "#!g1.1\n"
   ]
  }
 ],
 "metadata": {
  "language_info": {
   "codemirror_mode": {
    "name": "ipython",
    "version": 3
   },
   "file_extension": ".py",
   "mimetype": "text/x-python",
   "name": "python",
   "nbconvert_exporter": "python",
   "pygments_lexer": "ipython3",
   "version": "3.7.7"
  },
  "notebookId": "a9299bf0-53cf-417d-b0e5-dd0167092d3c",
  "notebookPath": "Llama2 example.ipynb"
 },
 "nbformat": 4,
 "nbformat_minor": 5
}
