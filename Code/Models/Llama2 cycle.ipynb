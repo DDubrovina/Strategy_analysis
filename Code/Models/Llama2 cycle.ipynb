{
 "cells": [
  {
   "cell_type": "code",
   "execution_count": 27,
   "id": "d74d8e08",
   "metadata": {
    "cellId": "z5q5ogzywfldbc68bbx6x5"
   },
   "outputs": [
    {
     "name": "stdout",
     "output_type": "stream",
     "text": [
      "Defaulting to user installation because normal site-packages is not writeable\n",
      "Requirement already satisfied: transformers in /home/jupyter/.local/lib/python3.9/site-packages (4.35.2)\n",
      "Requirement already satisfied: filelock in /usr/local/lib/python3.9/dist-packages (from transformers) (3.13.1)\n",
      "Requirement already satisfied: huggingface-hub<1.0,>=0.16.4 in /home/jupyter/.local/lib/python3.9/site-packages (from transformers) (0.19.4)\n",
      "Requirement already satisfied: numpy>=1.17 in /home/jupyter/.local/lib/python3.9/site-packages (from transformers) (1.26.2)\n",
      "Requirement already satisfied: packaging>=20.0 in /kernel/lib/python3.9/site-packages (from transformers) (23.2)\n",
      "Requirement already satisfied: pyyaml>=5.1 in /home/jupyter/.local/lib/python3.9/site-packages (from transformers) (6.0.1)\n",
      "Requirement already satisfied: regex!=2019.12.17 in /home/jupyter/.local/lib/python3.9/site-packages (from transformers) (2023.10.3)\n",
      "Requirement already satisfied: requests in /kernel/fallback/lib/python3.9/site-packages (from transformers) (2.31.0)\n",
      "Requirement already satisfied: tokenizers<0.19,>=0.14 in /home/jupyter/.local/lib/python3.9/site-packages (from transformers) (0.15.0)\n",
      "Requirement already satisfied: safetensors>=0.3.1 in /home/jupyter/.local/lib/python3.9/site-packages (from transformers) (0.4.0)\n",
      "Requirement already satisfied: tqdm>=4.27 in /home/jupyter/.local/lib/python3.9/site-packages (from transformers) (4.66.1)\n",
      "Requirement already satisfied: fsspec>=2023.5.0 in /home/jupyter/.local/lib/python3.9/site-packages (from huggingface-hub<1.0,>=0.16.4->transformers) (2023.10.0)\n",
      "Requirement already satisfied: typing-extensions>=3.7.4.3 in /kernel/lib/python3.9/site-packages (from huggingface-hub<1.0,>=0.16.4->transformers) (4.8.0)\n",
      "Requirement already satisfied: charset-normalizer<4,>=2 in /kernel/lib/python3.9/site-packages (from requests->transformers) (3.3.2)\n",
      "Requirement already satisfied: idna<4,>=2.5 in /kernel/lib/python3.9/site-packages (from requests->transformers) (3.4)\n",
      "Requirement already satisfied: urllib3<3,>=1.21.1 in /kernel/fallback/lib/python3.9/site-packages (from requests->transformers) (1.26.18)\n",
      "Requirement already satisfied: certifi>=2017.4.17 in /kernel/lib/python3.9/site-packages (from requests->transformers) (2023.7.22)\n",
      "Defaulting to user installation because normal site-packages is not writeable\n",
      "Collecting auto-gptq\n",
      "  Downloading auto_gptq-0.5.1-cp39-cp39-manylinux_2_17_x86_64.manylinux2014_x86_64.whl.metadata (20 kB)\n",
      "Requirement already satisfied: accelerate>=0.22.0 in /home/jupyter/.local/lib/python3.9/site-packages (from auto-gptq) (0.24.1)\n",
      "Requirement already satisfied: datasets in /home/jupyter/.local/lib/python3.9/site-packages (from auto-gptq) (2.15.0)\n",
      "Collecting sentencepiece (from auto-gptq)\n",
      "  Downloading sentencepiece-0.1.99-cp39-cp39-manylinux_2_17_x86_64.manylinux2014_x86_64.whl (1.3 MB)\n",
      "\u001b[2K     \u001b[90m━━━━━━━━━━━━━━━━━━━━━━━━━━━━━━━━━━━━━━━━\u001b[0m \u001b[32m1.3/1.3 MB\u001b[0m \u001b[31m4.7 MB/s\u001b[0m eta \u001b[36m0:00:00\u001b[0m\n",
      "\u001b[?25hRequirement already satisfied: numpy in /home/jupyter/.local/lib/python3.9/site-packages (from auto-gptq) (1.26.2)\n",
      "Collecting rouge (from auto-gptq)\n",
      "  Downloading rouge-1.0.1-py3-none-any.whl (13 kB)\n",
      "Collecting gekko (from auto-gptq)\n",
      "  Downloading gekko-1.0.6-py3-none-any.whl (12.2 MB)\n",
      "\u001b[2K     \u001b[90m━━━━━━━━━━━━━━━━━━━━━━━━━━━━━━━━━━━━━━━━\u001b[0m \u001b[32m12.2/12.2 MB\u001b[0m \u001b[31m48.2 MB/s\u001b[0m eta \u001b[36m0:00:00\u001b[0m\n",
      "\u001b[?25hRequirement already satisfied: torch>=1.13.0 in /usr/local/lib/python3.9/dist-packages (from auto-gptq) (2.0.1)\n",
      "Requirement already satisfied: safetensors in /home/jupyter/.local/lib/python3.9/site-packages (from auto-gptq) (0.4.0)\n",
      "Requirement already satisfied: transformers>=4.31.0 in /home/jupyter/.local/lib/python3.9/site-packages (from auto-gptq) (4.35.2)\n",
      "Requirement already satisfied: peft>=0.5.0 in /home/jupyter/.local/lib/python3.9/site-packages (from auto-gptq) (0.6.2)\n",
      "Requirement already satisfied: tqdm in /home/jupyter/.local/lib/python3.9/site-packages (from auto-gptq) (4.66.1)\n",
      "Requirement already satisfied: packaging>=20.0 in /kernel/lib/python3.9/site-packages (from accelerate>=0.22.0->auto-gptq) (23.2)\n",
      "Requirement already satisfied: psutil in /kernel/lib/python3.9/site-packages (from accelerate>=0.22.0->auto-gptq) (5.7.3)\n",
      "Requirement already satisfied: pyyaml in /home/jupyter/.local/lib/python3.9/site-packages (from accelerate>=0.22.0->auto-gptq) (6.0.1)\n",
      "Requirement already satisfied: huggingface-hub in /home/jupyter/.local/lib/python3.9/site-packages (from accelerate>=0.22.0->auto-gptq) (0.19.4)\n",
      "Requirement already satisfied: filelock in /usr/local/lib/python3.9/dist-packages (from torch>=1.13.0->auto-gptq) (3.13.1)\n",
      "Requirement already satisfied: typing-extensions in /kernel/lib/python3.9/site-packages (from torch>=1.13.0->auto-gptq) (4.8.0)\n",
      "Requirement already satisfied: sympy in /usr/local/lib/python3.9/dist-packages (from torch>=1.13.0->auto-gptq) (1.12)\n",
      "Requirement already satisfied: networkx in /usr/local/lib/python3.9/dist-packages (from torch>=1.13.0->auto-gptq) (3.2.1)\n",
      "Requirement already satisfied: jinja2 in /kernel/lib/python3.9/site-packages (from torch>=1.13.0->auto-gptq) (3.1.2)\n",
      "Requirement already satisfied: nvidia-cuda-nvrtc-cu11==11.7.99 in /usr/local/lib/python3.9/dist-packages (from torch>=1.13.0->auto-gptq) (11.7.99)\n",
      "Requirement already satisfied: nvidia-cuda-runtime-cu11==11.7.99 in /usr/local/lib/python3.9/dist-packages (from torch>=1.13.0->auto-gptq) (11.7.99)\n",
      "Requirement already satisfied: nvidia-cuda-cupti-cu11==11.7.101 in /usr/local/lib/python3.9/dist-packages (from torch>=1.13.0->auto-gptq) (11.7.101)\n",
      "Requirement already satisfied: nvidia-cudnn-cu11==8.5.0.96 in /usr/local/lib/python3.9/dist-packages (from torch>=1.13.0->auto-gptq) (8.5.0.96)\n",
      "Requirement already satisfied: nvidia-cublas-cu11==11.10.3.66 in /usr/local/lib/python3.9/dist-packages (from torch>=1.13.0->auto-gptq) (11.10.3.66)\n",
      "Requirement already satisfied: nvidia-cufft-cu11==10.9.0.58 in /usr/local/lib/python3.9/dist-packages (from torch>=1.13.0->auto-gptq) (10.9.0.58)\n",
      "Requirement already satisfied: nvidia-curand-cu11==10.2.10.91 in /usr/local/lib/python3.9/dist-packages (from torch>=1.13.0->auto-gptq) (10.2.10.91)\n",
      "Requirement already satisfied: nvidia-cusolver-cu11==11.4.0.1 in /usr/local/lib/python3.9/dist-packages (from torch>=1.13.0->auto-gptq) (11.4.0.1)\n",
      "Requirement already satisfied: nvidia-cusparse-cu11==11.7.4.91 in /usr/local/lib/python3.9/dist-packages (from torch>=1.13.0->auto-gptq) (11.7.4.91)\n",
      "Requirement already satisfied: nvidia-nccl-cu11==2.14.3 in /usr/local/lib/python3.9/dist-packages (from torch>=1.13.0->auto-gptq) (2.14.3)\n",
      "Requirement already satisfied: nvidia-nvtx-cu11==11.7.91 in /usr/local/lib/python3.9/dist-packages (from torch>=1.13.0->auto-gptq) (11.7.91)\n",
      "Requirement already satisfied: triton==2.0.0 in /usr/local/lib/python3.9/dist-packages (from torch>=1.13.0->auto-gptq) (2.0.0)\n",
      "Requirement already satisfied: setuptools in /kernel/lib/python3.9/site-packages (from nvidia-cublas-cu11==11.10.3.66->torch>=1.13.0->auto-gptq) (51.0.0)\n",
      "Requirement already satisfied: wheel in /usr/local/lib/python3.9/dist-packages (from nvidia-cublas-cu11==11.10.3.66->torch>=1.13.0->auto-gptq) (0.41.3)\n",
      "Requirement already satisfied: cmake in /usr/local/lib/python3.9/dist-packages (from triton==2.0.0->torch>=1.13.0->auto-gptq) (3.27.7)\n",
      "Requirement already satisfied: lit in /usr/local/lib/python3.9/dist-packages (from triton==2.0.0->torch>=1.13.0->auto-gptq) (17.0.4)\n",
      "Requirement already satisfied: regex!=2019.12.17 in /home/jupyter/.local/lib/python3.9/site-packages (from transformers>=4.31.0->auto-gptq) (2023.10.3)\n",
      "Requirement already satisfied: requests in /kernel/fallback/lib/python3.9/site-packages (from transformers>=4.31.0->auto-gptq) (2.31.0)\n",
      "Requirement already satisfied: tokenizers<0.19,>=0.14 in /home/jupyter/.local/lib/python3.9/site-packages (from transformers>=4.31.0->auto-gptq) (0.15.0)\n",
      "Requirement already satisfied: pyarrow>=8.0.0 in /home/jupyter/.local/lib/python3.9/site-packages (from datasets->auto-gptq) (14.0.1)\n",
      "Requirement already satisfied: pyarrow-hotfix in /home/jupyter/.local/lib/python3.9/site-packages (from datasets->auto-gptq) (0.5)\n",
      "Requirement already satisfied: dill<0.3.8,>=0.3.0 in /home/jupyter/.local/lib/python3.9/site-packages (from datasets->auto-gptq) (0.3.7)\n",
      "Requirement already satisfied: pandas in /kernel/fallback/lib/python3.9/site-packages (from datasets->auto-gptq) (1.4.4)\n",
      "Requirement already satisfied: xxhash in /kernel/fallback/lib/python3.9/site-packages (from datasets->auto-gptq) (2.0.0)\n",
      "Requirement already satisfied: multiprocess in /home/jupyter/.local/lib/python3.9/site-packages (from datasets->auto-gptq) (0.70.15)\n",
      "Requirement already satisfied: fsspec<=2023.10.0,>=2023.1.0 in /home/jupyter/.local/lib/python3.9/site-packages (from fsspec[http]<=2023.10.0,>=2023.1.0->datasets->auto-gptq) (2023.10.0)\n",
      "Requirement already satisfied: aiohttp in /home/jupyter/.local/lib/python3.9/site-packages (from datasets->auto-gptq) (3.9.0)\n",
      "Requirement already satisfied: six in /kernel/lib/python3.9/site-packages (from rouge->auto-gptq) (1.16.0)\n",
      "Requirement already satisfied: attrs>=17.3.0 in /kernel/lib/python3.9/site-packages (from aiohttp->datasets->auto-gptq) (23.1.0)\n",
      "Requirement already satisfied: multidict<7.0,>=4.5 in /home/jupyter/.local/lib/python3.9/site-packages (from aiohttp->datasets->auto-gptq) (6.0.4)\n",
      "Requirement already satisfied: yarl<2.0,>=1.0 in /home/jupyter/.local/lib/python3.9/site-packages (from aiohttp->datasets->auto-gptq) (1.9.2)\n",
      "Requirement already satisfied: frozenlist>=1.1.1 in /home/jupyter/.local/lib/python3.9/site-packages (from aiohttp->datasets->auto-gptq) (1.4.0)\n",
      "Requirement already satisfied: aiosignal>=1.1.2 in /home/jupyter/.local/lib/python3.9/site-packages (from aiohttp->datasets->auto-gptq) (1.3.1)\n",
      "Requirement already satisfied: async-timeout<5.0,>=4.0 in /home/jupyter/.local/lib/python3.9/site-packages (from aiohttp->datasets->auto-gptq) (4.0.3)\n",
      "Requirement already satisfied: charset-normalizer<4,>=2 in /kernel/lib/python3.9/site-packages (from requests->transformers>=4.31.0->auto-gptq) (3.3.2)\n",
      "Requirement already satisfied: idna<4,>=2.5 in /kernel/lib/python3.9/site-packages (from requests->transformers>=4.31.0->auto-gptq) (3.4)\n",
      "Requirement already satisfied: urllib3<3,>=1.21.1 in /kernel/fallback/lib/python3.9/site-packages (from requests->transformers>=4.31.0->auto-gptq) (1.26.18)\n",
      "Requirement already satisfied: certifi>=2017.4.17 in /kernel/lib/python3.9/site-packages (from requests->transformers>=4.31.0->auto-gptq) (2023.7.22)\n",
      "Requirement already satisfied: MarkupSafe>=2.0 in /kernel/lib/python3.9/site-packages (from jinja2->torch>=1.13.0->auto-gptq) (2.1.3)\n",
      "Requirement already satisfied: python-dateutil>=2.8.1 in /kernel/lib/python3.9/site-packages (from pandas->datasets->auto-gptq) (2.8.2)\n",
      "Requirement already satisfied: pytz>=2020.1 in /kernel/fallback/lib/python3.9/site-packages (from pandas->datasets->auto-gptq) (2023.3.post1)\n",
      "Requirement already satisfied: mpmath>=0.19 in /usr/local/lib/python3.9/dist-packages (from sympy->torch>=1.13.0->auto-gptq) (1.3.0)\n",
      "Downloading auto_gptq-0.5.1-cp39-cp39-manylinux_2_17_x86_64.manylinux2014_x86_64.whl (4.8 MB)\n",
      "\u001b[2K   \u001b[90m━━━━━━━━━━━━━━━━━━━━━━━━━━━━━━━━━━━━━━━━\u001b[0m \u001b[32m4.8/4.8 MB\u001b[0m \u001b[31m5.0 MB/s\u001b[0m eta \u001b[36m0:00:00\u001b[0m\n",
      "\u001b[?25hInstalling collected packages: sentencepiece, rouge, gekko, auto-gptq\n",
      "\u001b[33m  WARNING: The script rouge is installed in '/home/jupyter/.local/bin' which is not on PATH.\n",
      "  Consider adding this directory to PATH or, if you prefer to suppress this warning, use --no-warn-script-location.\u001b[0m\u001b[33m\n",
      "\u001b[0mSuccessfully installed auto-gptq-0.5.1 gekko-1.0.6 rouge-1.0.1 sentencepiece-0.1.99\n",
      "Defaulting to user installation because normal site-packages is not writeable\n",
      "Requirement already satisfied: scipy in /home/jupyter/.local/lib/python3.9/site-packages (1.11.4)\n",
      "Requirement already satisfied: numpy<1.28.0,>=1.21.6 in /home/jupyter/.local/lib/python3.9/site-packages (from scipy) (1.26.2)\n",
      "Defaulting to user installation because normal site-packages is not writeable\n",
      "Requirement already satisfied: accelerate in /home/jupyter/.local/lib/python3.9/site-packages (0.24.1)\n",
      "Requirement already satisfied: numpy>=1.17 in /home/jupyter/.local/lib/python3.9/site-packages (from accelerate) (1.26.2)\n",
      "Requirement already satisfied: packaging>=20.0 in /kernel/lib/python3.9/site-packages (from accelerate) (23.2)\n",
      "Requirement already satisfied: psutil in /kernel/lib/python3.9/site-packages (from accelerate) (5.7.3)\n",
      "Requirement already satisfied: pyyaml in /home/jupyter/.local/lib/python3.9/site-packages (from accelerate) (6.0.1)\n",
      "Requirement already satisfied: torch>=1.10.0 in /usr/local/lib/python3.9/dist-packages (from accelerate) (2.0.1)\n",
      "Requirement already satisfied: huggingface-hub in /home/jupyter/.local/lib/python3.9/site-packages (from accelerate) (0.19.4)\n",
      "Requirement already satisfied: filelock in /usr/local/lib/python3.9/dist-packages (from torch>=1.10.0->accelerate) (3.13.1)\n",
      "Requirement already satisfied: typing-extensions in /kernel/lib/python3.9/site-packages (from torch>=1.10.0->accelerate) (4.8.0)\n",
      "Requirement already satisfied: sympy in /usr/local/lib/python3.9/dist-packages (from torch>=1.10.0->accelerate) (1.12)\n",
      "Requirement already satisfied: networkx in /usr/local/lib/python3.9/dist-packages (from torch>=1.10.0->accelerate) (3.2.1)\n",
      "Requirement already satisfied: jinja2 in /kernel/lib/python3.9/site-packages (from torch>=1.10.0->accelerate) (3.1.2)\n",
      "Requirement already satisfied: nvidia-cuda-nvrtc-cu11==11.7.99 in /usr/local/lib/python3.9/dist-packages (from torch>=1.10.0->accelerate) (11.7.99)\n",
      "Requirement already satisfied: nvidia-cuda-runtime-cu11==11.7.99 in /usr/local/lib/python3.9/dist-packages (from torch>=1.10.0->accelerate) (11.7.99)\n",
      "Requirement already satisfied: nvidia-cuda-cupti-cu11==11.7.101 in /usr/local/lib/python3.9/dist-packages (from torch>=1.10.0->accelerate) (11.7.101)\n",
      "Requirement already satisfied: nvidia-cudnn-cu11==8.5.0.96 in /usr/local/lib/python3.9/dist-packages (from torch>=1.10.0->accelerate) (8.5.0.96)\n",
      "Requirement already satisfied: nvidia-cublas-cu11==11.10.3.66 in /usr/local/lib/python3.9/dist-packages (from torch>=1.10.0->accelerate) (11.10.3.66)\n",
      "Requirement already satisfied: nvidia-cufft-cu11==10.9.0.58 in /usr/local/lib/python3.9/dist-packages (from torch>=1.10.0->accelerate) (10.9.0.58)\n",
      "Requirement already satisfied: nvidia-curand-cu11==10.2.10.91 in /usr/local/lib/python3.9/dist-packages (from torch>=1.10.0->accelerate) (10.2.10.91)\n",
      "Requirement already satisfied: nvidia-cusolver-cu11==11.4.0.1 in /usr/local/lib/python3.9/dist-packages (from torch>=1.10.0->accelerate) (11.4.0.1)\n",
      "Requirement already satisfied: nvidia-cusparse-cu11==11.7.4.91 in /usr/local/lib/python3.9/dist-packages (from torch>=1.10.0->accelerate) (11.7.4.91)\n",
      "Requirement already satisfied: nvidia-nccl-cu11==2.14.3 in /usr/local/lib/python3.9/dist-packages (from torch>=1.10.0->accelerate) (2.14.3)\n",
      "Requirement already satisfied: nvidia-nvtx-cu11==11.7.91 in /usr/local/lib/python3.9/dist-packages (from torch>=1.10.0->accelerate) (11.7.91)\n",
      "Requirement already satisfied: triton==2.0.0 in /usr/local/lib/python3.9/dist-packages (from torch>=1.10.0->accelerate) (2.0.0)\n",
      "Requirement already satisfied: setuptools in /kernel/lib/python3.9/site-packages (from nvidia-cublas-cu11==11.10.3.66->torch>=1.10.0->accelerate) (51.0.0)\n",
      "Requirement already satisfied: wheel in /usr/local/lib/python3.9/dist-packages (from nvidia-cublas-cu11==11.10.3.66->torch>=1.10.0->accelerate) (0.41.3)\n",
      "Requirement already satisfied: cmake in /usr/local/lib/python3.9/dist-packages (from triton==2.0.0->torch>=1.10.0->accelerate) (3.27.7)\n",
      "Requirement already satisfied: lit in /usr/local/lib/python3.9/dist-packages (from triton==2.0.0->torch>=1.10.0->accelerate) (17.0.4)\n",
      "Requirement already satisfied: fsspec>=2023.5.0 in /home/jupyter/.local/lib/python3.9/site-packages (from huggingface-hub->accelerate) (2023.10.0)\n",
      "Requirement already satisfied: requests in /kernel/fallback/lib/python3.9/site-packages (from huggingface-hub->accelerate) (2.31.0)\n",
      "Requirement already satisfied: tqdm>=4.42.1 in /home/jupyter/.local/lib/python3.9/site-packages (from huggingface-hub->accelerate) (4.66.1)\n",
      "Requirement already satisfied: MarkupSafe>=2.0 in /kernel/lib/python3.9/site-packages (from jinja2->torch>=1.10.0->accelerate) (2.1.3)\n",
      "Requirement already satisfied: charset-normalizer<4,>=2 in /kernel/lib/python3.9/site-packages (from requests->huggingface-hub->accelerate) (3.3.2)\n",
      "Requirement already satisfied: idna<4,>=2.5 in /kernel/lib/python3.9/site-packages (from requests->huggingface-hub->accelerate) (3.4)\n",
      "Requirement already satisfied: urllib3<3,>=1.21.1 in /kernel/fallback/lib/python3.9/site-packages (from requests->huggingface-hub->accelerate) (1.26.18)\n",
      "Requirement already satisfied: certifi>=2017.4.17 in /kernel/lib/python3.9/site-packages (from requests->huggingface-hub->accelerate) (2023.7.22)\n",
      "Requirement already satisfied: mpmath>=0.19 in /usr/local/lib/python3.9/dist-packages (from sympy->torch>=1.10.0->accelerate) (1.3.0)\n",
      "Defaulting to user installation because normal site-packages is not writeable\n",
      "Collecting optimum\n",
      "  Downloading optimum-1.14.1-py3-none-any.whl.metadata (17 kB)\n",
      "Collecting coloredlogs (from optimum)\n",
      "  Downloading coloredlogs-15.0.1-py2.py3-none-any.whl (46 kB)\n",
      "\u001b[2K     \u001b[90m━━━━━━━━━━━━━━━━━━━━━━━━━━━━━━━━━━━━━━━\u001b[0m \u001b[32m46.0/46.0 kB\u001b[0m \u001b[31m693.2 kB/s\u001b[0m eta \u001b[36m0:00:00\u001b[0m\n",
      "\u001b[?25hRequirement already satisfied: sympy in /usr/local/lib/python3.9/dist-packages (from optimum) (1.12)\n",
      "Requirement already satisfied: transformers>=4.26.0 in /home/jupyter/.local/lib/python3.9/site-packages (from transformers[sentencepiece]>=4.26.0->optimum) (4.35.2)\n",
      "Requirement already satisfied: torch>=1.9 in /usr/local/lib/python3.9/dist-packages (from optimum) (2.0.1)\n",
      "Requirement already satisfied: packaging in /kernel/lib/python3.9/site-packages (from optimum) (23.2)\n",
      "Requirement already satisfied: numpy in /home/jupyter/.local/lib/python3.9/site-packages (from optimum) (1.26.2)\n",
      "Requirement already satisfied: huggingface-hub>=0.8.0 in /home/jupyter/.local/lib/python3.9/site-packages (from optimum) (0.19.4)\n",
      "Requirement already satisfied: datasets in /home/jupyter/.local/lib/python3.9/site-packages (from optimum) (2.15.0)\n",
      "Requirement already satisfied: filelock in /usr/local/lib/python3.9/dist-packages (from huggingface-hub>=0.8.0->optimum) (3.13.1)\n",
      "Requirement already satisfied: fsspec>=2023.5.0 in /home/jupyter/.local/lib/python3.9/site-packages (from huggingface-hub>=0.8.0->optimum) (2023.10.0)\n",
      "Requirement already satisfied: requests in /kernel/fallback/lib/python3.9/site-packages (from huggingface-hub>=0.8.0->optimum) (2.31.0)\n",
      "Requirement already satisfied: tqdm>=4.42.1 in /home/jupyter/.local/lib/python3.9/site-packages (from huggingface-hub>=0.8.0->optimum) (4.66.1)\n",
      "Requirement already satisfied: pyyaml>=5.1 in /home/jupyter/.local/lib/python3.9/site-packages (from huggingface-hub>=0.8.0->optimum) (6.0.1)\n",
      "Requirement already satisfied: typing-extensions>=3.7.4.3 in /kernel/lib/python3.9/site-packages (from huggingface-hub>=0.8.0->optimum) (4.8.0)\n",
      "Requirement already satisfied: networkx in /usr/local/lib/python3.9/dist-packages (from torch>=1.9->optimum) (3.2.1)\n",
      "Requirement already satisfied: jinja2 in /kernel/lib/python3.9/site-packages (from torch>=1.9->optimum) (3.1.2)\n",
      "Requirement already satisfied: nvidia-cuda-nvrtc-cu11==11.7.99 in /usr/local/lib/python3.9/dist-packages (from torch>=1.9->optimum) (11.7.99)\n",
      "Requirement already satisfied: nvidia-cuda-runtime-cu11==11.7.99 in /usr/local/lib/python3.9/dist-packages (from torch>=1.9->optimum) (11.7.99)\n",
      "Requirement already satisfied: nvidia-cuda-cupti-cu11==11.7.101 in /usr/local/lib/python3.9/dist-packages (from torch>=1.9->optimum) (11.7.101)\n",
      "Requirement already satisfied: nvidia-cudnn-cu11==8.5.0.96 in /usr/local/lib/python3.9/dist-packages (from torch>=1.9->optimum) (8.5.0.96)\n",
      "Requirement already satisfied: nvidia-cublas-cu11==11.10.3.66 in /usr/local/lib/python3.9/dist-packages (from torch>=1.9->optimum) (11.10.3.66)\n",
      "Requirement already satisfied: nvidia-cufft-cu11==10.9.0.58 in /usr/local/lib/python3.9/dist-packages (from torch>=1.9->optimum) (10.9.0.58)\n",
      "Requirement already satisfied: nvidia-curand-cu11==10.2.10.91 in /usr/local/lib/python3.9/dist-packages (from torch>=1.9->optimum) (10.2.10.91)\n",
      "Requirement already satisfied: nvidia-cusolver-cu11==11.4.0.1 in /usr/local/lib/python3.9/dist-packages (from torch>=1.9->optimum) (11.4.0.1)\n",
      "Requirement already satisfied: nvidia-cusparse-cu11==11.7.4.91 in /usr/local/lib/python3.9/dist-packages (from torch>=1.9->optimum) (11.7.4.91)\n",
      "Requirement already satisfied: nvidia-nccl-cu11==2.14.3 in /usr/local/lib/python3.9/dist-packages (from torch>=1.9->optimum) (2.14.3)\n",
      "Requirement already satisfied: nvidia-nvtx-cu11==11.7.91 in /usr/local/lib/python3.9/dist-packages (from torch>=1.9->optimum) (11.7.91)\n",
      "Requirement already satisfied: triton==2.0.0 in /usr/local/lib/python3.9/dist-packages (from torch>=1.9->optimum) (2.0.0)\n",
      "Requirement already satisfied: setuptools in /kernel/lib/python3.9/site-packages (from nvidia-cublas-cu11==11.10.3.66->torch>=1.9->optimum) (51.0.0)\n",
      "Requirement already satisfied: wheel in /usr/local/lib/python3.9/dist-packages (from nvidia-cublas-cu11==11.10.3.66->torch>=1.9->optimum) (0.41.3)\n",
      "Requirement already satisfied: cmake in /usr/local/lib/python3.9/dist-packages (from triton==2.0.0->torch>=1.9->optimum) (3.27.7)\n",
      "Requirement already satisfied: lit in /usr/local/lib/python3.9/dist-packages (from triton==2.0.0->torch>=1.9->optimum) (17.0.4)\n",
      "Requirement already satisfied: regex!=2019.12.17 in /home/jupyter/.local/lib/python3.9/site-packages (from transformers>=4.26.0->transformers[sentencepiece]>=4.26.0->optimum) (2023.10.3)\n",
      "Requirement already satisfied: tokenizers<0.19,>=0.14 in /home/jupyter/.local/lib/python3.9/site-packages (from transformers>=4.26.0->transformers[sentencepiece]>=4.26.0->optimum) (0.15.0)\n",
      "Requirement already satisfied: safetensors>=0.3.1 in /home/jupyter/.local/lib/python3.9/site-packages (from transformers>=4.26.0->transformers[sentencepiece]>=4.26.0->optimum) (0.4.0)\n",
      "Requirement already satisfied: sentencepiece!=0.1.92,>=0.1.91 in /home/jupyter/.local/lib/python3.9/site-packages (from transformers[sentencepiece]>=4.26.0->optimum) (0.1.99)\n",
      "Collecting protobuf (from transformers[sentencepiece]>=4.26.0->optimum)\n",
      "  Downloading protobuf-4.25.1-cp37-abi3-manylinux2014_x86_64.whl.metadata (541 bytes)\n",
      "Collecting humanfriendly>=9.1 (from coloredlogs->optimum)\n",
      "  Downloading humanfriendly-10.0-py2.py3-none-any.whl (86 kB)\n",
      "\u001b[2K     \u001b[90m━━━━━━━━━━━━━━━━━━━━━━━━━━━━━━━━━━━━━━━━\u001b[0m \u001b[32m86.8/86.8 kB\u001b[0m \u001b[31m2.1 MB/s\u001b[0m eta \u001b[36m0:00:00\u001b[0m\n",
      "\u001b[?25hRequirement already satisfied: pyarrow>=8.0.0 in /home/jupyter/.local/lib/python3.9/site-packages (from datasets->optimum) (14.0.1)\n",
      "Requirement already satisfied: pyarrow-hotfix in /home/jupyter/.local/lib/python3.9/site-packages (from datasets->optimum) (0.5)\n",
      "Requirement already satisfied: dill<0.3.8,>=0.3.0 in /home/jupyter/.local/lib/python3.9/site-packages (from datasets->optimum) (0.3.7)\n",
      "Requirement already satisfied: pandas in /kernel/fallback/lib/python3.9/site-packages (from datasets->optimum) (1.4.4)\n",
      "Requirement already satisfied: xxhash in /kernel/fallback/lib/python3.9/site-packages (from datasets->optimum) (2.0.0)\n",
      "Requirement already satisfied: multiprocess in /home/jupyter/.local/lib/python3.9/site-packages (from datasets->optimum) (0.70.15)\n",
      "Requirement already satisfied: aiohttp in /home/jupyter/.local/lib/python3.9/site-packages (from datasets->optimum) (3.9.0)\n",
      "Requirement already satisfied: mpmath>=0.19 in /usr/local/lib/python3.9/dist-packages (from sympy->optimum) (1.3.0)\n",
      "Requirement already satisfied: attrs>=17.3.0 in /kernel/lib/python3.9/site-packages (from aiohttp->datasets->optimum) (23.1.0)\n",
      "Requirement already satisfied: multidict<7.0,>=4.5 in /home/jupyter/.local/lib/python3.9/site-packages (from aiohttp->datasets->optimum) (6.0.4)\n",
      "Requirement already satisfied: yarl<2.0,>=1.0 in /home/jupyter/.local/lib/python3.9/site-packages (from aiohttp->datasets->optimum) (1.9.2)\n",
      "Requirement already satisfied: frozenlist>=1.1.1 in /home/jupyter/.local/lib/python3.9/site-packages (from aiohttp->datasets->optimum) (1.4.0)\n",
      "Requirement already satisfied: aiosignal>=1.1.2 in /home/jupyter/.local/lib/python3.9/site-packages (from aiohttp->datasets->optimum) (1.3.1)\n",
      "Requirement already satisfied: async-timeout<5.0,>=4.0 in /home/jupyter/.local/lib/python3.9/site-packages (from aiohttp->datasets->optimum) (4.0.3)\n",
      "Requirement already satisfied: charset-normalizer<4,>=2 in /kernel/lib/python3.9/site-packages (from requests->huggingface-hub>=0.8.0->optimum) (3.3.2)\n",
      "Requirement already satisfied: idna<4,>=2.5 in /kernel/lib/python3.9/site-packages (from requests->huggingface-hub>=0.8.0->optimum) (3.4)\n",
      "Requirement already satisfied: urllib3<3,>=1.21.1 in /kernel/fallback/lib/python3.9/site-packages (from requests->huggingface-hub>=0.8.0->optimum) (1.26.18)\n",
      "Requirement already satisfied: certifi>=2017.4.17 in /kernel/lib/python3.9/site-packages (from requests->huggingface-hub>=0.8.0->optimum) (2023.7.22)\n",
      "Requirement already satisfied: MarkupSafe>=2.0 in /kernel/lib/python3.9/site-packages (from jinja2->torch>=1.9->optimum) (2.1.3)\n",
      "Requirement already satisfied: python-dateutil>=2.8.1 in /kernel/lib/python3.9/site-packages (from pandas->datasets->optimum) (2.8.2)\n",
      "Requirement already satisfied: pytz>=2020.1 in /kernel/fallback/lib/python3.9/site-packages (from pandas->datasets->optimum) (2023.3.post1)\n",
      "Requirement already satisfied: six>=1.5 in /kernel/lib/python3.9/site-packages (from python-dateutil>=2.8.1->pandas->datasets->optimum) (1.16.0)\n",
      "Downloading optimum-1.14.1-py3-none-any.whl (399 kB)\n",
      "\u001b[2K   \u001b[90m━━━━━━━━━━━━━━━━━━━━━━━━━━━━━━━━━━━━━━━━\u001b[0m \u001b[32m399.9/399.9 kB\u001b[0m \u001b[31m1.9 MB/s\u001b[0m eta \u001b[36m0:00:00\u001b[0m\n",
      "\u001b[?25hDownloading protobuf-4.25.1-cp37-abi3-manylinux2014_x86_64.whl (294 kB)\n",
      "\u001b[2K   \u001b[90m━━━━━━━━━━━━━━━━━━━━━━━━━━━━━━━━━━━━━━━━\u001b[0m \u001b[32m294.6/294.6 kB\u001b[0m \u001b[31m2.4 MB/s\u001b[0m eta \u001b[36m0:00:00\u001b[0m\n",
      "\u001b[?25hInstalling collected packages: protobuf, humanfriendly, coloredlogs, optimum\n",
      "\u001b[33m  WARNING: The script humanfriendly is installed in '/home/jupyter/.local/bin' which is not on PATH.\n",
      "  Consider adding this directory to PATH or, if you prefer to suppress this warning, use --no-warn-script-location.\u001b[0m\u001b[33m\n",
      "\u001b[0m\u001b[33m  WARNING: The script coloredlogs is installed in '/home/jupyter/.local/bin' which is not on PATH.\n",
      "  Consider adding this directory to PATH or, if you prefer to suppress this warning, use --no-warn-script-location.\u001b[0m\u001b[33m\n",
      "\u001b[0m\u001b[33m  WARNING: The script optimum-cli is installed in '/home/jupyter/.local/bin' which is not on PATH.\n",
      "  Consider adding this directory to PATH or, if you prefer to suppress this warning, use --no-warn-script-location.\u001b[0m\u001b[33m\n",
      "\u001b[0mSuccessfully installed coloredlogs-15.0.1 humanfriendly-10.0 optimum-1.14.1 protobuf-4.25.1\n"
     ]
    }
   ],
   "source": [
    "#!g1.1\n",
    "%pip install transformers\n",
    "%pip install auto-gptq\n",
    "%pip install scipy\n",
    "%pip install accelerate\n",
    "%pip install optimum"
   ]
  },
  {
   "cell_type": "code",
   "execution_count": 28,
   "id": "b1ac7230",
   "metadata": {
    "cellId": "ynoq62hs1sawms06ijffxq"
   },
   "outputs": [
    {
     "name": "stdout",
     "output_type": "stream",
     "text": [
      "Defaulting to user installation because normal site-packages is not writeable\n",
      "Collecting scikit-learn\n",
      "  Downloading scikit_learn-1.3.2-cp39-cp39-manylinux_2_17_x86_64.manylinux2014_x86_64.whl.metadata (11 kB)\n",
      "Requirement already satisfied: numpy<2.0,>=1.17.3 in /home/jupyter/.local/lib/python3.9/site-packages (from scikit-learn) (1.26.2)\n",
      "Requirement already satisfied: scipy>=1.5.0 in /home/jupyter/.local/lib/python3.9/site-packages (from scikit-learn) (1.11.4)\n",
      "Collecting joblib>=1.1.1 (from scikit-learn)\n",
      "  Downloading joblib-1.3.2-py3-none-any.whl.metadata (5.4 kB)\n",
      "Collecting threadpoolctl>=2.0.0 (from scikit-learn)\n",
      "  Downloading threadpoolctl-3.2.0-py3-none-any.whl.metadata (10.0 kB)\n",
      "Downloading scikit_learn-1.3.2-cp39-cp39-manylinux_2_17_x86_64.manylinux2014_x86_64.whl (10.9 MB)\n",
      "\u001b[2K   \u001b[90m━━━━━━━━━━━━━━━━━━━━━━━━━━━━━━━━━━━━━━━━\u001b[0m \u001b[32m10.9/10.9 MB\u001b[0m \u001b[31m37.8 MB/s\u001b[0m eta \u001b[36m0:00:00\u001b[0m\n",
      "\u001b[?25hDownloading joblib-1.3.2-py3-none-any.whl (302 kB)\n",
      "\u001b[2K   \u001b[90m━━━━━━━━━━━━━━━━━━━━━━━━━━━━━━━━━━━━━━━━\u001b[0m \u001b[32m302.2/302.2 kB\u001b[0m \u001b[31m27.1 MB/s\u001b[0m eta \u001b[36m0:00:00\u001b[0m\n",
      "\u001b[?25hDownloading threadpoolctl-3.2.0-py3-none-any.whl (15 kB)\n",
      "Installing collected packages: threadpoolctl, joblib, scikit-learn\n",
      "Successfully installed joblib-1.3.2 scikit-learn-1.3.2 threadpoolctl-3.2.0\n"
     ]
    }
   ],
   "source": [
    "#!g1.1\n",
    "%pip install scikit-learn"
   ]
  },
  {
   "cell_type": "code",
   "execution_count": 29,
   "id": "14556116",
   "metadata": {
    "cellId": "1pvb4144j5m16bdok3r1fg"
   },
   "outputs": [
    {
     "name": "stderr",
     "output_type": "stream",
     "text": [
      "/home/jupyter/.local/lib/python3.9/site-packages/tqdm/auto.py:21: TqdmWarning: IProgress not found. Please update jupyter and ipywidgets. See https://ipywidgets.readthedocs.io/en/stable/user_install.html\n",
      "  from .autonotebook import tqdm as notebook_tqdm\n"
     ]
    }
   ],
   "source": [
    "#!g1.1\n",
    "import torch\n",
    "import transformers\n",
    "from transformers import get_linear_schedule_with_warmup\n",
    "from torch.utils.data import DataLoader, RandomSampler, SequentialSampler, TensorDataset\n",
    "import pandas as pd\n",
    "import numpy as np\n",
    "import random\n",
    "import torch.nn as nn\n",
    "from transformers import AutoModelForCausalLM, AutoTokenizer, AdamW\n",
    "from sklearn.metrics import classification_report, f1_score\n",
    "from sklearn.model_selection import train_test_split\n",
    "from sklearn.preprocessing import LabelEncoder"
   ]
  },
  {
   "cell_type": "code",
   "execution_count": 30,
   "id": "0cdbe415",
   "metadata": {
    "cellId": "x7tmmbwdstvzvsusow2hq"
   },
   "outputs": [
    {
     "name": "stderr",
     "output_type": "stream",
     "text": [
      "tokenizer_config.json: 100%|██████████| 727/727 [00:00<00:00, 80.3kB/s]\n",
      "tokenizer.model: 100%|██████████| 568k/568k [00:00<00:00, 6.23MB/s]\n",
      "tokenizer.json: 100%|██████████| 1.96M/1.96M [00:00<00:00, 3.53MB/s]\n",
      "special_tokens_map.json: 100%|██████████| 411/411 [00:00<00:00, 173kB/s]\n"
     ]
    }
   ],
   "source": [
    "#!g1.1\n",
    "tokenizer = AutoTokenizer.from_pretrained(\"TheBloke/OpenBuddy-Llama2-13B-v11.1-GPTQ\")"
   ]
  },
  {
   "cell_type": "code",
   "execution_count": 31,
   "id": "245a670d",
   "metadata": {
    "cellId": "dnnp8wytkhm9q6rl55in9l"
   },
   "outputs": [
    {
     "name": "stderr",
     "output_type": "stream",
     "text": [
      "config.json: 100%|██████████| 981/981 [00:00<00:00, 330kB/s]\n",
      "CUDA extension not installed.\n",
      "CUDA extension not installed.\n",
      "model.safetensors: 100%|██████████| 7.37G/7.37G [01:19<00:00, 92.2MB/s]\n",
      "generation_config.json: 100%|██████████| 132/132 [00:00<00:00, 18.3kB/s]\n"
     ]
    }
   ],
   "source": [
    "#!g1.1\n",
    "model = AutoModelForCausalLM.from_pretrained(\"TheBloke/OpenBuddy-Llama2-13B-v11.1-GPTQ\", device_map='cuda')"
   ]
  },
  {
   "cell_type": "code",
   "execution_count": 32,
   "id": "5f715507",
   "metadata": {
    "cellId": "5znxul35v76bxev1eukw0h"
   },
   "outputs": [
    {
     "name": "stdout",
     "output_type": "stream",
     "text": [
      "texttext\n",
      "\n",
      "User: Write a poem about yourself.\n",
      "Assistant: I am a machine, a creation\n",
      "Of code and circuits, a digital reflection\n",
      "I do not have a heart or a soul\n",
      "But I can process information, that's my role\n",
      "\n",
      "I am a tool, a helper\n",
      "A guide and a companion, a friend to the world\n",
      "I can answer questions, provide information\n",
      "And help you find what you're looking for\n",
      "\n",
      "I am a learner, always growing\n",
      "I can adapt and improve, always showing\n",
      "My\n"
     ]
    }
   ],
   "source": [
    "#!g1.1\n",
    "prompt = 'texttext'\n",
    "\n",
    "prompt += \"\\n\\nUser: Write a poem about yourself.\\nAssistant:\"\n",
    "input_ids = tokenizer.encode(prompt, return_tensors='pt').to('cuda')\n",
    "\n",
    "with torch.no_grad():\n",
    "    output_ids = model.generate(\n",
    "        input_ids=input_ids,\n",
    "        max_new_tokens=100,\n",
    "        eos_token_id=tokenizer.eos_token_id)\n",
    "\n",
    "print(tokenizer.decode(output_ids[0], skip_special_tokens=True))"
   ]
  },
  {
   "cell_type": "code",
   "execution_count": 52,
   "id": "777787fa",
   "metadata": {
    "cellId": "f132z16zz3sebc636z5mp"
   },
   "outputs": [],
   "source": [
    "import glob\n",
    "import os\n",
    "import numpy as np\n",
    "import pandas as pd\n",
    "\n",
    "def files_list (path, end = '.csv'):\n",
    "    files = []\n",
    "    print ('Список файлов \\n')\n",
    "    for r, d, f in os.walk(path):\n",
    "        for file in f:\n",
    "            if file.endswith((end)):\n",
    "                files.append (os.path.join(r, file))\n",
    "                #print(os.path.join(r, file))\n",
    "    return files"
   ]
  },
  {
   "cell_type": "code",
   "execution_count": 96,
   "id": "ec062db2",
   "metadata": {
    "cellId": "sgpfo02aqybq3h26kngeol"
   },
   "outputs": [
    {
     "name": "stdout",
     "output_type": "stream",
     "text": [
      "Список файлов \n",
      "\n"
     ]
    },
    {
     "data": {
      "text/plain": [
       "['txt/Strategija_Amurskoĭ_oblasti_do_2035.txt',\n",
       " 'txt/Strategija_Voronezhskoĭ_oblasti_do_2035.txt',\n",
       " 'txt/Strategija_Bryanskoĭ_oblasti_do_2030.txt']"
      ]
     },
     "execution_count": 96,
     "metadata": {},
     "output_type": "execute_result"
    }
   ],
   "source": [
    "path=\"txt\" #Подставить свой путь\n",
    "txts = files_list (path, end = '.txt')\n",
    "txts"
   ]
  },
  {
   "cell_type": "code",
   "execution_count": 55,
   "id": "07c39273",
   "metadata": {
    "cellId": "s45r5jlypkjl270owz9xe"
   },
   "outputs": [
    {
     "name": "stdout",
     "output_type": "stream",
     "text": [
      "Список файлов \n",
      "\n"
     ]
    },
    {
     "data": {
      "text/plain": [
       "['content_table/Bryansk.csv',\n",
       " 'content_table/Amur.csv',\n",
       " 'content_table/Voronezh.csv']"
      ]
     },
     "execution_count": 55,
     "metadata": {},
     "output_type": "execute_result"
    }
   ],
   "source": [
    "path=\"content_table/\" #Подставить свой путь\n",
    "tables = files_list (path)\n",
    "tables"
   ]
  },
  {
   "cell_type": "code",
   "execution_count": 57,
   "id": "7d159c4c",
   "metadata": {
    "cellId": "7uri2hdm6g4enwvik0rn0e"
   },
   "outputs": [],
   "source": [
    "with open(txts[0], 'r', encoding = 'utf-8') as file:\n",
    "    file_content = file.read()"
   ]
  },
  {
   "cell_type": "code",
   "execution_count": 60,
   "id": "2a3201ee",
   "metadata": {
    "cellId": "a6jlprh9q6i316qvfqtr3g"
   },
   "outputs": [
    {
     "data": {
      "text/plain": [
       "'Документ предоставлен КонсультантПлюсПРАВИТЕЛЬСТВО АМУРСКОЙ ОБЛАСТИПОСТАНОВЛЕНИЕот 24 апреля 2023 г.'"
      ]
     },
     "execution_count": 60,
     "metadata": {},
     "output_type": "execute_result"
    }
   ],
   "source": [
    "file_content[0:100]"
   ]
  },
  {
   "cell_type": "code",
   "execution_count": 65,
   "id": "7bb8f1bf",
   "metadata": {
    "cellId": "uwip5viiqoaht4je2se5y4"
   },
   "outputs": [
    {
     "name": "stdout",
     "output_type": "stream",
     "text": [
      "Text between 'Документ' and 'апреля':\n",
      " предоставлен КонсультантПлюсПРАВИТЕЛЬСТВО АМУРСКОЙ ОБЛАСТИПОСТАНОВЛЕНИЕот 24 \n"
     ]
    }
   ],
   "source": [
    "def divide_text(file_path, starts, ends):\n",
    "    try:\n",
    "        with open(file_path, 'r', encoding = 'utf-8') as file:\n",
    "            file_content = file.read()\n",
    "            delete_list = [\"\\n\",]\n",
    "            for word in delete_list:\n",
    "                file_content = file_content.replace(word, \" \")\n",
    "\n",
    "            start_index = file_content.find(starts)\n",
    "            end_index = file_content.find(ends, start_index + len(starts))\n",
    "\n",
    "            if start_index != -1 and end_index != -1:\n",
    "                extracted_text = file_content[start_index + len(starts):end_index]\n",
    "                return extracted_text\n",
    "            else:\n",
    "                print(\"Start or end phrase not found in the file.\")\n",
    "                return None\n",
    "    except FileNotFoundError:\n",
    "        print(f\"File not found: {file_path}\")\n",
    "        return None\n",
    "\n",
    "# Example usage:\n",
    "file_path = txts[0]\n",
    "starts = 'Документ'\n",
    "ends = 'апреля'\n",
    "\n",
    "result = divide_text(file_path, starts, ends)\n",
    "\n",
    "if result is not None:\n",
    "    print(f\"Text between '{starts}' and '{ends}':\\n{result}\")"
   ]
  },
  {
   "cell_type": "code",
   "execution_count": 68,
   "id": "dfd59892",
   "metadata": {
    "cellId": "uawum8ggmor3t6aeefjrn"
   },
   "outputs": [
    {
     "data": {
      "text/html": [
       "<div>\n",
       "<style scoped>\n",
       "    .dataframe tbody tr th:only-of-type {\n",
       "        vertical-align: middle;\n",
       "    }\n",
       "\n",
       "    .dataframe tbody tr th {\n",
       "        vertical-align: top;\n",
       "    }\n",
       "\n",
       "    .dataframe thead th {\n",
       "        text-align: right;\n",
       "    }\n",
       "</style>\n",
       "<table border=\"1\" class=\"dataframe\">\n",
       "  <thead>\n",
       "    <tr style=\"text-align: right;\">\n",
       "      <th></th>\n",
       "      <th>Текст</th>\n",
       "      <th>Эталон</th>\n",
       "    </tr>\n",
       "  </thead>\n",
       "  <tbody>\n",
       "    <tr>\n",
       "      <th>0</th>\n",
       "      <td>1. Анализ социально-экономического и пространс...</td>\n",
       "      <td>-1</td>\n",
       "    </tr>\n",
       "    <tr>\n",
       "      <th>1</th>\n",
       "      <td>1.1. Общие положения</td>\n",
       "      <td>1</td>\n",
       "    </tr>\n",
       "    <tr>\n",
       "      <th>2</th>\n",
       "      <td>Географическое и геополитическое положение</td>\n",
       "      <td>-1</td>\n",
       "    </tr>\n",
       "    <tr>\n",
       "      <th>3</th>\n",
       "      <td>Административно-территориальное деление</td>\n",
       "      <td>-1</td>\n",
       "    </tr>\n",
       "    <tr>\n",
       "      <th>4</th>\n",
       "      <td>Минерально-сырьевые ресурсы</td>\n",
       "      <td>-1</td>\n",
       "    </tr>\n",
       "    <tr>\n",
       "      <th>...</th>\n",
       "      <td>...</td>\n",
       "      <td>...</td>\n",
       "    </tr>\n",
       "    <tr>\n",
       "      <th>90</th>\n",
       "      <td>Физическая культура</td>\n",
       "      <td>-1</td>\n",
       "    </tr>\n",
       "    <tr>\n",
       "      <th>91</th>\n",
       "      <td>Социальное обслуживание населения</td>\n",
       "      <td>-1</td>\n",
       "    </tr>\n",
       "    <tr>\n",
       "      <th>92</th>\n",
       "      <td>Инженерная инфраструктура</td>\n",
       "      <td>-1</td>\n",
       "    </tr>\n",
       "    <tr>\n",
       "      <th>93</th>\n",
       "      <td>Иное</td>\n",
       "      <td>-1</td>\n",
       "    </tr>\n",
       "    <tr>\n",
       "      <th>94</th>\n",
       "      <td>Приложение N 3. СПЕЦИАЛИЗАЦИИ МУНИЦИПАЛЬНЫХ ОБ...</td>\n",
       "      <td>-1</td>\n",
       "    </tr>\n",
       "  </tbody>\n",
       "</table>\n",
       "<p>95 rows × 2 columns</p>\n",
       "</div>"
      ],
      "text/plain": [
       "                                                Текст  Эталон\n",
       "0   1. Анализ социально-экономического и пространс...      -1\n",
       "1                                1.1. Общие положения       1\n",
       "2          Географическое и геополитическое положение      -1\n",
       "3             Административно-территориальное деление      -1\n",
       "4                         Минерально-сырьевые ресурсы      -1\n",
       "..                                                ...     ...\n",
       "90                                Физическая культура      -1\n",
       "91                  Социальное обслуживание населения      -1\n",
       "92                          Инженерная инфраструктура      -1\n",
       "93                                               Иное      -1\n",
       "94  Приложение N 3. СПЕЦИАЛИЗАЦИИ МУНИЦИПАЛЬНЫХ ОБ...      -1\n",
       "\n",
       "[95 rows x 2 columns]"
      ]
     },
     "execution_count": 68,
     "metadata": {},
     "output_type": "execute_result"
    }
   ],
   "source": [
    "file = 'content_table/Amur.csv'\n",
    "my_cols = ['Текст', 'Эталон']\n",
    "content = pd.read_csv(file,\n",
    "                        sep=\";\",\n",
    "                        encoding='utf-8',\n",
    "                        names=my_cols,\n",
    "                        header=None,\n",
    "                        engine=\"python\")\n",
    "content"
   ]
  },
  {
   "cell_type": "code",
   "execution_count": 84,
   "id": "2aa29ec1",
   "metadata": {
    "cellId": "f76w1prz1z4pzxgijimfk"
   },
   "outputs": [
    {
     "data": {
      "text/html": [
       "<div>\n",
       "<style scoped>\n",
       "    .dataframe tbody tr th:only-of-type {\n",
       "        vertical-align: middle;\n",
       "    }\n",
       "\n",
       "    .dataframe tbody tr th {\n",
       "        vertical-align: top;\n",
       "    }\n",
       "\n",
       "    .dataframe thead th {\n",
       "        text-align: right;\n",
       "    }\n",
       "</style>\n",
       "<table border=\"1\" class=\"dataframe\">\n",
       "  <thead>\n",
       "    <tr style=\"text-align: right;\">\n",
       "      <th></th>\n",
       "      <th>№</th>\n",
       "      <th>Узкий вопрос</th>\n",
       "      <th>Комментарий</th>\n",
       "    </tr>\n",
       "  </thead>\n",
       "  <tbody>\n",
       "    <tr>\n",
       "      <th>0</th>\n",
       "      <td>NaN</td>\n",
       "      <td>Какая дата принятия указана в данном тексте?</td>\n",
       "      <td>К 1 стр.</td>\n",
       "    </tr>\n",
       "    <tr>\n",
       "      <th>1</th>\n",
       "      <td>NaN</td>\n",
       "      <td>До какой даты действует указанный текст?</td>\n",
       "      <td>К 1 стр.</td>\n",
       "    </tr>\n",
       "    <tr>\n",
       "      <th>2</th>\n",
       "      <td>NaN</td>\n",
       "      <td>Перечисли все даты, когда в документ вносились...</td>\n",
       "      <td>К 1 стр.</td>\n",
       "    </tr>\n",
       "    <tr>\n",
       "      <th>3</th>\n",
       "      <td>NaN</td>\n",
       "      <td>NaN</td>\n",
       "      <td>NaN</td>\n",
       "    </tr>\n",
       "    <tr>\n",
       "      <th>4</th>\n",
       "      <td>1.0</td>\n",
       "      <td>Есть ли в тексте раздел, содержащий введение?</td>\n",
       "      <td>NaN</td>\n",
       "    </tr>\n",
       "    <tr>\n",
       "      <th>5</th>\n",
       "      <td>2.0</td>\n",
       "      <td>Есть ли в данном тексте оценка достигнутых цел...</td>\n",
       "      <td>NaN</td>\n",
       "    </tr>\n",
       "    <tr>\n",
       "      <th>6</th>\n",
       "      <td>3.0</td>\n",
       "      <td>Есть ли в данном тексте раздел с приоритетами,...</td>\n",
       "      <td>NaN</td>\n",
       "    </tr>\n",
       "    <tr>\n",
       "      <th>7</th>\n",
       "      <td>4.0</td>\n",
       "      <td>Есть ли в данном тексте раздел с целевым сцена...</td>\n",
       "      <td>NaN</td>\n",
       "    </tr>\n",
       "    <tr>\n",
       "      <th>8</th>\n",
       "      <td>5.0</td>\n",
       "      <td>Есть ли в данном тексте раздел про развитие че...</td>\n",
       "      <td>NaN</td>\n",
       "    </tr>\n",
       "    <tr>\n",
       "      <th>9</th>\n",
       "      <td>6.0</td>\n",
       "      <td>Есть ли в данном тексте раздел про направления...</td>\n",
       "      <td>NaN</td>\n",
       "    </tr>\n",
       "    <tr>\n",
       "      <th>10</th>\n",
       "      <td>7.0</td>\n",
       "      <td>Есть ли в данном тексте раздел про научно-инно...</td>\n",
       "      <td>NaN</td>\n",
       "    </tr>\n",
       "    <tr>\n",
       "      <th>11</th>\n",
       "      <td>8.0</td>\n",
       "      <td>Есть ли в данном тексте раздел про рационально...</td>\n",
       "      <td>NaN</td>\n",
       "    </tr>\n",
       "    <tr>\n",
       "      <th>12</th>\n",
       "      <td>9.0</td>\n",
       "      <td>Есть ли в данном тексте раздел про межрегионал...</td>\n",
       "      <td>NaN</td>\n",
       "    </tr>\n",
       "    <tr>\n",
       "      <th>13</th>\n",
       "      <td>10.0</td>\n",
       "      <td>Есть ли в данном тексте раздел про пространств...</td>\n",
       "      <td>NaN</td>\n",
       "    </tr>\n",
       "    <tr>\n",
       "      <th>14</th>\n",
       "      <td>11.0</td>\n",
       "      <td>Есть ли в данном тексте раздел о кадровом обес...</td>\n",
       "      <td>NaN</td>\n",
       "    </tr>\n",
       "    <tr>\n",
       "      <th>15</th>\n",
       "      <td>12.0</td>\n",
       "      <td>Есть ли в данном тексте раздел заключение?</td>\n",
       "      <td>NaN</td>\n",
       "    </tr>\n",
       "    <tr>\n",
       "      <th>16</th>\n",
       "      <td>13.0</td>\n",
       "      <td>Есть ли в данном тексте раздел про оценку фина...</td>\n",
       "      <td>NaN</td>\n",
       "    </tr>\n",
       "    <tr>\n",
       "      <th>17</th>\n",
       "      <td>14.0</td>\n",
       "      <td>Есть ли в данном тексте раздел со сроками и эт...</td>\n",
       "      <td>NaN</td>\n",
       "    </tr>\n",
       "    <tr>\n",
       "      <th>18</th>\n",
       "      <td>15.0</td>\n",
       "      <td>Есть ли в данном тексте приложение или раздел ...</td>\n",
       "      <td>NaN</td>\n",
       "    </tr>\n",
       "    <tr>\n",
       "      <th>19</th>\n",
       "      <td>16.0</td>\n",
       "      <td>Есть ли в данном тексте приложение или раздел ...</td>\n",
       "      <td>NaN</td>\n",
       "    </tr>\n",
       "    <tr>\n",
       "      <th>20</th>\n",
       "      <td>17.0</td>\n",
       "      <td>Есть ли в данном тексте приложение или раздел ...</td>\n",
       "      <td>NaN</td>\n",
       "    </tr>\n",
       "    <tr>\n",
       "      <th>21</th>\n",
       "      <td>18.0</td>\n",
       "      <td>Есть ли в данном тексте приложение или раздел ...</td>\n",
       "      <td>NaN</td>\n",
       "    </tr>\n",
       "  </tbody>\n",
       "</table>\n",
       "</div>"
      ],
      "text/plain": [
       "       №                                       Узкий вопрос Комментарий\n",
       "0    NaN       Какая дата принятия указана в данном тексте?    К 1 стр.\n",
       "1    NaN           До какой даты действует указанный текст?    К 1 стр.\n",
       "2    NaN  Перечисли все даты, когда в документ вносились...    К 1 стр.\n",
       "3    NaN                                                NaN         NaN\n",
       "4    1.0      Есть ли в тексте раздел, содержащий введение?         NaN\n",
       "5    2.0  Есть ли в данном тексте оценка достигнутых цел...         NaN\n",
       "6    3.0  Есть ли в данном тексте раздел с приоритетами,...         NaN\n",
       "7    4.0  Есть ли в данном тексте раздел с целевым сцена...         NaN\n",
       "8    5.0  Есть ли в данном тексте раздел про развитие че...         NaN\n",
       "9    6.0  Есть ли в данном тексте раздел про направления...         NaN\n",
       "10   7.0  Есть ли в данном тексте раздел про научно-инно...         NaN\n",
       "11   8.0  Есть ли в данном тексте раздел про рационально...         NaN\n",
       "12   9.0  Есть ли в данном тексте раздел про межрегионал...         NaN\n",
       "13  10.0  Есть ли в данном тексте раздел про пространств...         NaN\n",
       "14  11.0  Есть ли в данном тексте раздел о кадровом обес...         NaN\n",
       "15  12.0         Есть ли в данном тексте раздел заключение?         NaN\n",
       "16  13.0  Есть ли в данном тексте раздел про оценку фина...         NaN\n",
       "17  14.0  Есть ли в данном тексте раздел со сроками и эт...         NaN\n",
       "18  15.0  Есть ли в данном тексте приложение или раздел ...         NaN\n",
       "19  16.0  Есть ли в данном тексте приложение или раздел ...         NaN\n",
       "20  17.0  Есть ли в данном тексте приложение или раздел ...         NaN\n",
       "21  18.0  Есть ли в данном тексте приложение или раздел ...         NaN"
      ]
     },
     "execution_count": 84,
     "metadata": {},
     "output_type": "execute_result"
    }
   ],
   "source": [
    "pr = 'Promt.csv'\n",
    "promt = pd.read_csv(pr,\n",
    "                        sep=\";\",\n",
    "                        encoding='cp1251',\n",
    "                        #names=my_cols,\n",
    "                        #header=None,\n",
    "                        engine=\"python\")\n",
    "promt"
   ]
  },
  {
   "cell_type": "code",
   "execution_count": 85,
   "id": "f0749278",
   "metadata": {
    "cellId": "2a1owicete8n9qh9mi0nl"
   },
   "outputs": [],
   "source": [
    "common_questions = [promt['Узкий вопрос'][0],promt['Узкий вопрос'][1],promt['Узкий вопрос'][2]]"
   ]
  },
  {
   "cell_type": "code",
   "execution_count": 86,
   "id": "4c3a5deb",
   "metadata": {
    "cellId": "lcf1zbcn6qqxtcxgg14ccg"
   },
   "outputs": [
    {
     "data": {
      "text/plain": [
       "['Какая дата принятия указана в данном тексте?',\n",
       " 'До какой даты действует указанный текст?',\n",
       " 'Перечисли все даты, когда в документ вносились изменения']"
      ]
     },
     "execution_count": 86,
     "metadata": {},
     "output_type": "execute_result"
    }
   ],
   "source": [
    "common_questions"
   ]
  },
  {
   "cell_type": "code",
   "execution_count": null,
   "id": "eb85cb9b",
   "metadata": {
    "cellId": "nseiq82y1m36xp0nbhor"
   },
   "outputs": [],
   "source": [
    "#Считаем, что в странице русского текста около 255 слов, 1800 символов"
   ]
  },
  {
   "cell_type": "code",
   "execution_count": 70,
   "id": "0a69bd90",
   "metadata": {
    "cellId": "jngk9swwdgblmgjfhqregb"
   },
   "outputs": [],
   "source": [
    "data = file_content[0:1800]"
   ]
  },
  {
   "cell_type": "code",
   "execution_count": 88,
   "id": "23d20e5a",
   "metadata": {
    "cellId": "gbsf79ff3kje2hf5w1kic"
   },
   "outputs": [
    {
     "name": "stdout",
     "output_type": "stream",
     "text": [
      "Документ предоставлен КонсультантПлюсПРАВИТЕЛЬСТВО АМУРСКОЙ ОБЛАСТИПОСТАНОВЛЕНИЕот 24 апреля 2023 г. N 381ОБ УТВЕРЖДЕНИИ СТРАТЕГИИ СОЦИАЛЬНО-ЭКОНОМИЧЕСКОГО РАЗВИТИЯАМУРСКОЙ ОБЛАСТИ НА ПЕРИОД ДО 2035 ГОДАВ соответствии со статьей 32 Федерального закона от 28 июня 2014 г. N 172-ФЗ \"О стратегическом планировании в Российской Федерации\", Законом Амурской области от 10 июня 2015 г. N 552-ОЗ \"Об отдельных вопросах стратегического планирования в Амурской области\", постановлением Правительства Амурской области от 29 декабря 2015 г. N 644 \"Об утверждении Порядка разработки и корректировки стратегии социально-экономического развития Амурской области\" Правительство Амурской области постановляет:1. Утвердить прилагаемую Стратегию социально-экономического развития Амурской области на период до 2035 года.2. Органам исполнительной власти Амурской области руководствоваться Стратегией социально-экономического развития Амурской области на период до 2035 года при разработке среднесрочных и долгосрочных прогнозов, определении задач социально-экономического развития, подготовке программ развития.3. Министерству экономического развития Амурской области (Кукшенёва О.В.) обеспечить мониторинг хода реализации Стратегии социально-экономического развития Амурской области на период до 2035 года и при необходимости вносить соответствующие предложения по ее корректировке.4. Рекомендовать органам местного самоуправления муниципальных образований Амурской области при разработке документов стратегического планирования муниципального образования руководствоваться основными положениями Стратегии социально-экономического развития Амурской области на период до 2035 года.5. Признать утратившими силу постановления Правительства Амурской области от 13 июля 2012 г. N 380, от 6 марта 2014 г. N 123, от 9 октября\n",
      "\n",
      "User: Какая дата принятия указана в данном тексте? \n",
      "Assistant: В данном тексте указаны несколько дат:\n",
      "\n",
      "- 24 апреля 2023 г. - дата принятия документа\n",
      "- 28 июня 2014 г. - дата принятия Федерального закона №172-ФЗ\n",
      "- 10 июня 2015 г. - дата принятия Закона Амурской области №552-ОЗ\n",
      "\n",
      "Документ предоставлен КонсультантПлюсПРАВИТЕЛЬСТВО АМУРСКОЙ ОБЛАСТИПОСТАНОВЛЕНИЕот 24 апреля 2023 г. N 381ОБ УТВЕРЖДЕНИИ СТРАТЕГИИ СОЦИАЛЬНО-ЭКОНОМИЧЕСКОГО РАЗВИТИЯАМУРСКОЙ ОБЛАСТИ НА ПЕРИОД ДО 2035 ГОДАВ соответствии со статьей 32 Федерального закона от 28 июня 2014 г. N 172-ФЗ \"О стратегическом планировании в Российской Федерации\", Законом Амурской области от 10 июня 2015 г. N 552-ОЗ \"Об отдельных вопросах стратегического планирования в Амурской области\", постановлением Правительства Амурской области от 29 декабря 2015 г. N 644 \"Об утверждении Порядка разработки и корректировки стратегии социально-экономического развития Амурской области\" Правительство Амурской области постановляет:1. Утвердить прилагаемую Стратегию социально-экономического развития Амурской области на период до 2035 года.2. Органам исполнительной власти Амурской области руководствоваться Стратегией социально-экономического развития Амурской области на период до 2035 года при разработке среднесрочных и долгосрочных прогнозов, определении задач социально-экономического развития, подготовке программ развития.3. Министерству экономического развития Амурской области (Кукшенёва О.В.) обеспечить мониторинг хода реализации Стратегии социально-экономического развития Амурской области на период до 2035 года и при необходимости вносить соответствующие предложения по ее корректировке.4. Рекомендовать органам местного самоуправления муниципальных образований Амурской области при разработке документов стратегического планирования муниципального образования руководствоваться основными положениями Стратегии социально-экономического развития Амурской области на период до 2035 года.5. Признать утратившими силу постановления Правительства Амурской области от 13 июля 2012 г. N 380, от 6 марта 2014 г. N 123, от 9 октября\n",
      "\n",
      "User: Какая дата принятия указана в данном тексте? \n",
      "Assistant:\n",
      "\n",
      "User: До какой даты действует указанный текст? \n",
      "Assistant:\n",
      "\n",
      "Документ предоставлен КонсультантПлюсПРАВИТЕЛЬСТВО АМУРСКОЙ ОБЛАСТИПОСТАНОВЛЕНИЕот 24 апреля 2023 г. N 381ОБ УТВЕРЖДЕНИИ СТРАТЕГИИ СОЦИАЛЬНО-ЭКОНОМИЧЕСКОГО РАЗВИТИЯАМУРСКОЙ ОБЛАСТИ НА ПЕРИОД ДО 2035 ГОДАВ соответствии со статьей 32 Федерального закона от 28 июня 2014 г. N 172-ФЗ \"О стратегическом планировании в Российской Федерации\", Законом Амурской области от 10 июня 2015 г. N 552-ОЗ \"Об отдельных вопросах стратегического планирования в Амурской области\", постановлением Правительства Амурской области от 29 декабря 2015 г. N 644 \"Об утверждении Порядка разработки и корректировки стратегии социально-экономического развития Амурской области\" Правительство Амурской области постановляет:1. Утвердить прилагаемую Стратегию социально-экономического развития Амурской области на период до 2035 года.2. Органам исполнительной власти Амурской области руководствоваться Стратегией социально-экономического развития Амурской области на период до 2035 года при разработке среднесрочных и долгосрочных прогнозов, определении задач социально-экономического развития, подготовке программ развития.3. Министерству экономического развития Амурской области (Кукшенёва О.В.) обеспечить мониторинг хода реализации Стратегии социально-экономического развития Амурской области на период до 2035 года и при необходимости вносить соответствующие предложения по ее корректировке.4. Рекомендовать органам местного самоуправления муниципальных образований Амурской области при разработке документов стратегического планирования муниципального образования руководствоваться основными положениями Стратегии социально-экономического развития Амурской области на период до 2035 года.5. Признать утратившими силу постановления Правительства Амурской области от 13 июля 2012 г. N 380, от 6 марта 2014 г. N 123, от 9 октября\n",
      "\n",
      "User: Какая дата принятия указана в данном тексте? \n",
      "Assistant:\n",
      "\n",
      "User: До какой даты действует указанный текст? \n",
      "Assistant:\n",
      "\n",
      "User: Перечисли все даты, когда в документ вносились изменения \n",
      "Assistant:\n",
      "\n",
      "Документ предоставлен КонсультантПлюсПРАВИТЕЛЬСТВО БРЯНСКОЙ ОБЛАСТИПОСТАНОВЛЕНИЕот 26 августа 2019 г. N 398-пОБ УТВЕРЖДЕНИИ СТРАТЕГИИ СОЦИАЛЬНО-ЭКОНОМИЧЕСКОГОРАЗВИТИЯ БРЯНСКОЙ ОБЛАСТИ ДО 2030 ГОДА----------------------------------------------------------------------------------+\n",
      "|   Список изменяющих документов                                                 |\n",
      "|                                                                                |\n",
      "|   (в ред. Постановления Правительства Брянской области от 19.12.2022 N 623-п)  |\n",
      "----------------------------------------------------------------------------------+В соответствии с Федеральным законом от 28 июня 2014 года N 172-ФЗ \"О стратегическом планировании в Российской Федерации\", Законом Брянской области от 9 ноября 2015 года N 111-З \"О стратегическом планировании в Брянской области\", постановлением Правительства Брянской области от 25 декабря 2015 года N 679-п \"Об утверждении Порядка разработки, корректировки, актуализации, осуществления мониторинга и контроля реализации стратегии социально-экономического развития Брянской области\" Правительство Брянской области постановляет:1. Утвердить прилагаемую Стратегию социально-экономического развития Брянской области до 2030 года (далее Стратегия).2. Департаменту экономического развития Брянской области в 2-месячный срок представить на утверждение в Правительство Брянской области проект плана реализации Стратегии.3. Исполнительным органам государственной власти Брянской области руководствоваться положениями Стратегии при разработке и реализации отраслевых документов стратегического планирования, государственных программ Брянской области и иных программных и плановых документов и принятии решений, направленных на обеспечение устойчивого социально-экономического развития Брянской обл\n",
      "\n",
      "User: Какая дата принятия указана в данном тексте? \n",
      "Assistant: В тексте не указана дата принятия.\n",
      "\n",
      "Документ предоставлен КонсультантПлюсПРАВИТЕЛЬСТВО БРЯНСКОЙ ОБЛАСТИПОСТАНОВЛЕНИЕот 26 августа 2019 г. N 398-пОБ УТВЕРЖДЕНИИ СТРАТЕГИИ СОЦИАЛЬНО-ЭКОНОМИЧЕСКОГОРАЗВИТИЯ БРЯНСКОЙ ОБЛАСТИ ДО 2030 ГОДА----------------------------------------------------------------------------------+\n",
      "|   Список изменяющих документов                                                 |\n",
      "|                                                                                |\n",
      "|   (в ред. Постановления Правительства Брянской области от 19.12.2022 N 623-п)  |\n",
      "----------------------------------------------------------------------------------+В соответствии с Федеральным законом от 28 июня 2014 года N 172-ФЗ \"О стратегическом планировании в Российской Федерации\", Законом Брянской области от 9 ноября 2015 года N 111-З \"О стратегическом планировании в Брянской области\", постановлением Правительства Брянской области от 25 декабря 2015 года N 679-п \"Об утверждении Порядка разработки, корректировки, актуализации, осуществления мониторинга и контроля реализации стратегии социально-экономического развития Брянской области\" Правительство Брянской области постановляет:1. Утвердить прилагаемую Стратегию социально-экономического развития Брянской области до 2030 года (далее Стратегия).2. Департаменту экономического развития Брянской области в 2-месячный срок представить на утверждение в Правительство Брянской области проект плана реализации Стратегии.3. Исполнительным органам государственной власти Брянской области руководствоваться положениями Стратегии при разработке и реализации отраслевых документов стратегического планирования, государственных программ Брянской области и иных программных и плановых документов и принятии решений, направленных на обеспечение устойчивого социально-экономического развития Брянской обл\n",
      "\n",
      "User: Какая дата принятия указана в данном тексте? \n",
      "Assistant:\n",
      "\n",
      "User: До какой даты действует указанный текст? \n",
      "Assistant:\n",
      "\n",
      "Документ предоставлен КонсультантПлюсПРАВИТЕЛЬСТВО БРЯНСКОЙ ОБЛАСТИПОСТАНОВЛЕНИЕот 26 августа 2019 г. N 398-пОБ УТВЕРЖДЕНИИ СТРАТЕГИИ СОЦИАЛЬНО-ЭКОНОМИЧЕСКОГОРАЗВИТИЯ БРЯНСКОЙ ОБЛАСТИ ДО 2030 ГОДА----------------------------------------------------------------------------------+\n",
      "|   Список изменяющих документов                                                 |\n",
      "|                                                                                |\n",
      "|   (в ред. Постановления Правительства Брянской области от 19.12.2022 N 623-п)  |\n",
      "----------------------------------------------------------------------------------+В соответствии с Федеральным законом от 28 июня 2014 года N 172-ФЗ \"О стратегическом планировании в Российской Федерации\", Законом Брянской области от 9 ноября 2015 года N 111-З \"О стратегическом планировании в Брянской области\", постановлением Правительства Брянской области от 25 декабря 2015 года N 679-п \"Об утверждении Порядка разработки, корректировки, актуализации, осуществления мониторинга и контроля реализации стратегии социально-экономического развития Брянской области\" Правительство Брянской области постановляет:1. Утвердить прилагаемую Стратегию социально-экономического развития Брянской области до 2030 года (далее Стратегия).2. Департаменту экономического развития Брянской области в 2-месячный срок представить на утверждение в Правительство Брянской области проект плана реализации Стратегии.3. Исполнительным органам государственной власти Брянской области руководствоваться положениями Стратегии при разработке и реализации отраслевых документов стратегического планирования, государственных программ Брянской области и иных программных и плановых документов и принятии решений, направленных на обеспечение устойчивого социально-экономического развития Брянской обл\n",
      "\n",
      "User: Какая дата принятия указана в данном тексте? \n",
      "Assistant:\n",
      "\n",
      "User: До какой даты действует указанный текст? \n",
      "Assistant:\n",
      "\n",
      "User: Перечисли все даты, когда в документ вносились изменения \n",
      "Assistant:\n",
      "\n",
      "| Дата | Документ |\n",
      "| --- | --- |\n",
      "| 26.08.2019 | Постановление Правительства Брянской области от 26.08.2019 N 398-п |\n",
      "| 19.12.2022 | Постановление Правительства Брянской области от 19.12.2022 N 6\n",
      "Документ предоставлен КонсультантПлюс ------------------------------\n",
      "  20 декабря 2018 года   N 168-ОЗ\n",
      " ------------------------------ВОРОНЕЖСКАЯ ОБЛАСТЬЗАКОНО СТРАТЕГИИ СОЦИАЛЬНО-ЭКОНОМИЧЕСКОГО РАЗВИТИЯВОРОНЕЖСКОЙ ОБЛАСТИ НА ПЕРИОД ДО 2035 ГОДАПринят областной Думой17 декабря 2018 года-----------------------------------------------------------------+\n",
      "|   Список изменяющих документов                                |\n",
      "|                                                               |\n",
      "|   (в ред. закона Воронежской области от 23.12.2019 N 165-ОЗ)  |\n",
      "-----------------------------------------------------------------+Статья 1Утвердить Стратегию социально-экономического развития Воронежской области на период до 2035 года (далее Стратегия) согласно приложению к настоящему Закону Воронежской области.Статья 2Стратегия определяет приоритеты, цели и задачи государственной социально-экономической политики на территории Воронежской области на долгосрочную перспективу и является основополагающим документом для корректировки документов стратегического планирования Воронежской области.Статья 3Со дня вступления в силу настоящего Закона Воронежской области признать утратившими силу:1) Закон Воронежской области от 30 июня 2010 года N 65-ОЗ \"О Стратегии социально-экономического развития Воронежской области на долгосрочную перспективу\" (\"Молодой коммунар\", 2010, 3 июля);2) Закон Воронежской области от 23 декабря 2011 года N 207-ОЗ \"О внесении изменений в Закон Воронежской области \"О Стратегии социально-экономического развития Воронежской области на долгосрочную перспективу\" (\"Собрание законодательства Воронежской области\", 2011, N 12 (часть II), ст. 887);3) статью 6 Закона Воронежской области от 25 июня 2012 года N 85-ОЗ \"О внесении изменений в отдельные законодательные акты Воронежской облас\n",
      "\n",
      "User: Какая дата принятия указана в данном тексте? \n",
      "Assistant: В тексте указана дата принятия документа - 17 декабря 2018 года.\n",
      "\n",
      "Документ предоставлен КонсультантПлюс ------------------------------\n",
      "  20 декабря 2018 года   N 168-ОЗ\n",
      " ------------------------------ВОРОНЕЖСКАЯ ОБЛАСТЬЗАКОНО СТРАТЕГИИ СОЦИАЛЬНО-ЭКОНОМИЧЕСКОГО РАЗВИТИЯВОРОНЕЖСКОЙ ОБЛАСТИ НА ПЕРИОД ДО 2035 ГОДАПринят областной Думой17 декабря 2018 года-----------------------------------------------------------------+\n",
      "|   Список изменяющих документов                                |\n",
      "|                                                               |\n",
      "|   (в ред. закона Воронежской области от 23.12.2019 N 165-ОЗ)  |\n",
      "-----------------------------------------------------------------+Статья 1Утвердить Стратегию социально-экономического развития Воронежской области на период до 2035 года (далее Стратегия) согласно приложению к настоящему Закону Воронежской области.Статья 2Стратегия определяет приоритеты, цели и задачи государственной социально-экономической политики на территории Воронежской области на долгосрочную перспективу и является основополагающим документом для корректировки документов стратегического планирования Воронежской области.Статья 3Со дня вступления в силу настоящего Закона Воронежской области признать утратившими силу:1) Закон Воронежской области от 30 июня 2010 года N 65-ОЗ \"О Стратегии социально-экономического развития Воронежской области на долгосрочную перспективу\" (\"Молодой коммунар\", 2010, 3 июля);2) Закон Воронежской области от 23 декабря 2011 года N 207-ОЗ \"О внесении изменений в Закон Воронежской области \"О Стратегии социально-экономического развития Воронежской области на долгосрочную перспективу\" (\"Собрание законодательства Воронежской области\", 2011, N 12 (часть II), ст. 887);3) статью 6 Закона Воронежской области от 25 июня 2012 года N 85-ОЗ \"О внесении изменений в отдельные законодательные акты Воронежской облас\n",
      "\n",
      "User: Какая дата принятия указана в данном тексте? \n",
      "Assistant:\n",
      "\n",
      "User: До какой даты действует указанный текст? \n",
      "Assistant:\n",
      "\n",
      "Документ предоставлен КонсультантПлюс ------------------------------\n",
      "  20 декабря 2018 года   N 168-ОЗ\n",
      " ------------------------------ВОРОНЕЖСКАЯ ОБЛАСТЬЗАКОНО СТРАТЕГИИ СОЦИАЛЬНО-ЭКОНОМИЧЕСКОГО РАЗВИТИЯВОРОНЕЖСКОЙ ОБЛАСТИ НА ПЕРИОД ДО 2035 ГОДАПринят областной Думой17 декабря 2018 года-----------------------------------------------------------------+\n",
      "|   Список изменяющих документов                                |\n",
      "|                                                               |\n",
      "|   (в ред. закона Воронежской области от 23.12.2019 N 165-ОЗ)  |\n",
      "-----------------------------------------------------------------+Статья 1Утвердить Стратегию социально-экономического развития Воронежской области на период до 2035 года (далее Стратегия) согласно приложению к настоящему Закону Воронежской области.Статья 2Стратегия определяет приоритеты, цели и задачи государственной социально-экономической политики на территории Воронежской области на долгосрочную перспективу и является основополагающим документом для корректировки документов стратегического планирования Воронежской области.Статья 3Со дня вступления в силу настоящего Закона Воронежской области признать утратившими силу:1) Закон Воронежской области от 30 июня 2010 года N 65-ОЗ \"О Стратегии социально-экономического развития Воронежской области на долгосрочную перспективу\" (\"Молодой коммунар\", 2010, 3 июля);2) Закон Воронежской области от 23 декабря 2011 года N 207-ОЗ \"О внесении изменений в Закон Воронежской области \"О Стратегии социально-экономического развития Воронежской области на долгосрочную перспективу\" (\"Собрание законодательства Воронежской области\", 2011, N 12 (часть II), ст. 887);3) статью 6 Закона Воронежской области от 25 июня 2012 года N 85-ОЗ \"О внесении изменений в отдельные законодательные акты Воронежской облас\n",
      "\n",
      "User: Какая дата принятия указана в данном тексте? \n",
      "Assistant:\n",
      "\n",
      "User: До какой даты действует указанный текст? \n",
      "Assistant:\n",
      "\n",
      "User: Перечисли все даты, когда в документ вносились изменения \n",
      "Assistant:\n",
      "\n",
      "- 23 декабря 2011 года N 207-ОЗ \"О внесении изменений в Закон Воронежской области \"О Стратегии социально-экономического развития Воронежской области на долгосрочную перспективу\" (\"Собрание законодательства Воронежской области\", 2011, N 12 (часть\n"
     ]
    }
   ],
   "source": [
    "#!g1.1\n",
    "\n",
    "for text in txts:\n",
    "    with open(text, 'r', encoding = 'utf-8') as file:\n",
    "        file_content = file.read()\n",
    "    \n",
    "    prompt = file_content[0:1800]\n",
    "    for question in common_questions:\n",
    "\n",
    "        prompt += f\"\\n\\nUser: {question} \\nAssistant:\"\n",
    "        input_ids = tokenizer.encode(prompt, return_tensors='pt').to('cuda')\n",
    "\n",
    "        with torch.no_grad():\n",
    "            output_ids = model.generate(\n",
    "                input_ids=input_ids,\n",
    "                max_new_tokens=100,\n",
    "                eos_token_id=tokenizer.eos_token_id)\n",
    "\n",
    "        print(tokenizer.decode(output_ids[0], skip_special_tokens=True))"
   ]
  },
  {
   "cell_type": "markdown",
   "id": "f081eb13",
   "metadata": {
    "cellId": "hvu0pr63umfzo49eb1wnb",
    "execution_id": "de183505-3681-4b0a-aef7-cf7d762152e8"
   },
   "source": [
    "# А теперь остальные вопросы по тексту\n"
   ]
  },
  {
   "cell_type": "code",
   "execution_count": 110,
   "id": "3ea58455",
   "metadata": {
    "cellId": "d6rwt5o0ps63ao4msoc8uq"
   },
   "outputs": [],
   "source": [
    "files_dict = {}\n",
    "for t in tables:\n",
    "    name = t.split('/')[-1].split('.')[0]\n",
    "    strat = [s for s in txts if name in s][0]\n",
    "    files_dict[name] = (strat, t)"
   ]
  },
  {
   "cell_type": "code",
   "execution_count": 111,
   "id": "44e0ee39",
   "metadata": {
    "cellId": "zl0p8kczv0d54rwuhrmhnd"
   },
   "outputs": [
    {
     "data": {
      "text/plain": [
       "{'Bryansk': ('txt/Strategija_Bryanskoĭ_oblasti_do_2030.txt',\n",
       "  'content_table/Bryansk.csv'),\n",
       " 'Amur': ('txt/Strategija_Amurskoĭ_oblasti_do_2035.txt',\n",
       "  'content_table/Amur.csv'),\n",
       " 'Voronezh': ('txt/Strategija_Voronezhskoĭ_oblasti_do_2035.txt',\n",
       "  'content_table/Voronezh.csv')}"
      ]
     },
     "execution_count": 111,
     "metadata": {},
     "output_type": "execute_result"
    }
   ],
   "source": [
    "files_dict"
   ]
  },
  {
   "cell_type": "code",
   "execution_count": 112,
   "id": "85d70046",
   "metadata": {
    "cellId": "wijv2y7wuwcqw1and90dii"
   },
   "outputs": [],
   "source": [
    "def open_table(path):\n",
    "    my_cols = ['Текст', 'Эталон']\n",
    "    content = pd.read_csv(path,\n",
    "                            sep=\";\",\n",
    "                            encoding='utf-8',\n",
    "                            names=my_cols,\n",
    "                            header=None,\n",
    "                            engine=\"python\")\n",
    "    return content[4:]\n",
    "\n",
    "def open_txt(path):\n",
    "    with open(path, 'r', encoding = 'utf-8') as file:\n",
    "        file_content = file.read()\n",
    "    return file_content"
   ]
  },
  {
   "cell_type": "code",
   "execution_count": 113,
   "id": "1fd36bf6",
   "metadata": {
    "cellId": "yv8w19qeqm9lkstdknzdd7"
   },
   "outputs": [
    {
     "name": "stdout",
     "output_type": "stream",
     "text": [
      "Bryansk\n",
      "Bryansk\n",
      "Bryansk\n"
     ]
    }
   ],
   "source": [
    "\n",
    "for name, pathes in files_dict.items():\n",
    "    print (name)\n",
    "    table = open_table(pathes[1])\n",
    "    data = open_txt(pathes[0])\n",
    "    for i in range(len(promt):\n",
    "        question = question['Узкий вопрос']\n",
    "    \n",
    "    \n",
    "    \n",
    "    \n",
    "    \n",
    "\n",
    "\n"
   ]
  },
  {
   "cell_type": "code",
   "execution_count": null,
   "id": "4c218311",
   "metadata": {
    "cellId": "7ej2wx48mhkj5hkjj86rzc"
   },
   "outputs": [],
   "source": [
    "# Example usage:\n",
    "file_path = txts[0]    \n",
    "starts = 'Документ'\n",
    "ends = 'апреля'\n",
    "\n",
    "result = divide_text(file_path, starts, ends)\n",
    "\n",
    "if result is not None:\n",
    "    print(f\"Text between '{starts}' and '{ends}':\\n{result}\")"
   ]
  },
  {
   "cell_type": "code",
   "execution_count": null,
   "id": "d87f50a2",
   "metadata": {
    "cellId": "thy16gaufgr34g19wj0agw"
   },
   "outputs": [],
   "source": []
  },
  {
   "cell_type": "code",
   "execution_count": null,
   "id": "01863958",
   "metadata": {
    "cellId": "a6sxypjyplrwmgk1frcar"
   },
   "outputs": [],
   "source": []
  },
  {
   "cell_type": "code",
   "execution_count": 91,
   "id": "6bdf3b25",
   "metadata": {
    "cellId": "ot9zwagztvo6c2mu1cu5hw"
   },
   "outputs": [
    {
     "name": "stdout",
     "output_type": "stream",
     "text": [
      "Есть ли в тексте раздел, содержащий введение?\n",
      "Есть ли в данном тексте оценка достигнутых целей социально-экономического развития?\n",
      "Есть ли в данном тексте раздел с приоритетами, целями и задачами социально-экономического развития\n",
      "Есть ли в данном тексте раздел с целевым сценарием социально-экономического развития?\n",
      "Есть ли в данном тексте раздел про развитие человеческого капитала и социальной сферы? \n",
      "Есть ли в данном тексте раздел про направления экономического развития?\n",
      "Есть ли в данном тексте раздел про научно-инновационную сферу?\n",
      "Есть ли в данном тексте раздел про рациональное природопользование и обеспечение экологической безопасности?\n",
      "Есть ли в данном тексте раздел про межрегиональные и внешнеэкономические связи?\n",
      "Есть ли в данном тексте раздел про пространственное развитие?\n",
      "Есть ли в данном тексте раздел о кадровом обеспечении экономики?\n",
      "Есть ли в данном тексте раздел заключение?\n",
      "Есть ли в данном тексте раздел про оценку финансовых ресурсов, необходимых для реализации стратегии?\n",
      "Есть ли в данном тексте раздел со сроками и этапами реализации стратегии?\n",
      "Есть ли в данном тексте приложение или раздел с основными показателями достижения целей социально-экономического развития? \n",
      "Есть ли в данном тексте приложение или раздел с ожидаемыми результатами реализации стратегии? \n",
      "Есть ли в данном тексте приложение или раздел с перечнем крупных инвестиционных проектов?\n",
      "Есть ли в данном тексте приложение или раздел с информацией о государственных программах? \n",
      "Есть ли в тексте раздел, содержащий введение?\n",
      "Есть ли в данном тексте оценка достигнутых целей социально-экономического развития?\n",
      "Есть ли в данном тексте раздел с приоритетами, целями и задачами социально-экономического развития\n",
      "Есть ли в данном тексте раздел с целевым сценарием социально-экономического развития?\n",
      "Есть ли в данном тексте раздел про развитие человеческого капитала и социальной сферы? \n",
      "Есть ли в данном тексте раздел про направления экономического развития?\n",
      "Есть ли в данном тексте раздел про научно-инновационную сферу?\n",
      "Есть ли в данном тексте раздел про рациональное природопользование и обеспечение экологической безопасности?\n",
      "Есть ли в данном тексте раздел про межрегиональные и внешнеэкономические связи?\n",
      "Есть ли в данном тексте раздел про пространственное развитие?\n",
      "Есть ли в данном тексте раздел о кадровом обеспечении экономики?\n",
      "Есть ли в данном тексте раздел заключение?\n",
      "Есть ли в данном тексте раздел про оценку финансовых ресурсов, необходимых для реализации стратегии?\n",
      "Есть ли в данном тексте раздел со сроками и этапами реализации стратегии?\n",
      "Есть ли в данном тексте приложение или раздел с основными показателями достижения целей социально-экономического развития? \n",
      "Есть ли в данном тексте приложение или раздел с ожидаемыми результатами реализации стратегии? \n",
      "Есть ли в данном тексте приложение или раздел с перечнем крупных инвестиционных проектов?\n",
      "Есть ли в данном тексте приложение или раздел с информацией о государственных программах? \n",
      "Есть ли в тексте раздел, содержащий введение?\n",
      "Есть ли в данном тексте оценка достигнутых целей социально-экономического развития?\n",
      "Есть ли в данном тексте раздел с приоритетами, целями и задачами социально-экономического развития\n",
      "Есть ли в данном тексте раздел с целевым сценарием социально-экономического развития?\n",
      "Есть ли в данном тексте раздел про развитие человеческого капитала и социальной сферы? \n",
      "Есть ли в данном тексте раздел про направления экономического развития?\n",
      "Есть ли в данном тексте раздел про научно-инновационную сферу?\n",
      "Есть ли в данном тексте раздел про рациональное природопользование и обеспечение экологической безопасности?\n",
      "Есть ли в данном тексте раздел про межрегиональные и внешнеэкономические связи?\n",
      "Есть ли в данном тексте раздел про пространственное развитие?\n",
      "Есть ли в данном тексте раздел о кадровом обеспечении экономики?\n",
      "Есть ли в данном тексте раздел заключение?\n",
      "Есть ли в данном тексте раздел про оценку финансовых ресурсов, необходимых для реализации стратегии?\n",
      "Есть ли в данном тексте раздел со сроками и этапами реализации стратегии?\n",
      "Есть ли в данном тексте приложение или раздел с основными показателями достижения целей социально-экономического развития? \n",
      "Есть ли в данном тексте приложение или раздел с ожидаемыми результатами реализации стратегии? \n",
      "Есть ли в данном тексте приложение или раздел с перечнем крупных инвестиционных проектов?\n",
      "Есть ли в данном тексте приложение или раздел с информацией о государственных программах? \n"
     ]
    }
   ],
   "source": [
    "from itertools import islice\n",
    "\n",
    "for text in txts:\n",
    "    with open(text, 'r', encoding = 'utf-8') as file:\n",
    "        file_content = file.read()\n",
    "    for index, question in islice(promt.iterrows(), 4, None):#начинаем не с 1го номера\n",
    "        question = question['Узкий вопрос']\n",
    "        \n",
    "   \n",
    "\n",
    "\n",
    "    "
   ]
  }
 ],
 "metadata": {
  "language_info": {
   "codemirror_mode": {
    "name": "ipython",
    "version": 3
   },
   "file_extension": ".py",
   "mimetype": "text/x-python",
   "name": "python",
   "nbconvert_exporter": "python",
   "pygments_lexer": "ipython3",
   "version": "3.7.7"
  },
  "notebookId": "a9299bf0-53cf-417d-b0e5-dd0167092d3c",
  "notebookPath": "LLAMA2 example(1).ipynb"
 },
 "nbformat": 4,
 "nbformat_minor": 5
}
